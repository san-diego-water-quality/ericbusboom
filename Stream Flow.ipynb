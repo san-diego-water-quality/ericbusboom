{
 "cells": [
  {
   "cell_type": "markdown",
   "metadata": {},
   "source": [
    "# San Diego River Flow Rates at Fashion Valley\n",
    "\n",
    "One problem with connecting the stream flow of the San Diego river to beach pollution is that the river flows through Dog beach, which is littered with dog feces. It's quite possible the station closest to the moth of the river, `PL-0100` is more correlated with the tides than with the river flow. \n"
   ]
  },
  {
   "cell_type": "code",
   "execution_count": 1,
   "metadata": {},
   "outputs": [],
   "source": [
    "import matplotlib.pyplot as plt \n",
    "import metapack as mp\n",
    "import pandas as pd\n",
    "import numpy as np"
   ]
  },
  {
   "cell_type": "code",
   "execution_count": 2,
   "metadata": {},
   "outputs": [],
   "source": [
    "pkg = mp.open_package('http://library.metatab.org/waterservices.usgs.gov-stream_discharge-fashion_valley_sd-1.csv')"
   ]
  },
  {
   "cell_type": "code",
   "execution_count": 3,
   "metadata": {},
   "outputs": [
    {
     "data": {
      "text/html": [
       "<h2>Fashion Valley Stream Discharge Rates</h2>\n",
       "<p><p><em>Stream discharge rates for the Fashion Valley station on the San Diego river,</em></p>\n",
       "<p><small>waterservices.usgs.gov-stream_discharge-fashion_valley_sd-1 from metapack+http://library.metatab.org/waterservices.usgs.gov-stream_discharge-fashion_valley_sd-1.csv</small></p></p>\n",
       "<h2>Original Notice</h2>\n",
       "<p>The data file includes this comment header:</p>\n",
       "<pre>\n",
       "    # ---------------------------------- WARNING ----------------------------------------\n",
       "    # Some of the data that you have obtained from this U.S. Geological Survey database may not \n",
       "    # have received Director's approval.  Any such data values are qualified as provisional and \n",
       "    # are subject to revision.  Provisional data are released on the condition that neither the \n",
       "    # USGS nor the United States Government may be held liable for any damages resulting from its use.\n",
       "    #  Go to http://help.waterdata.usgs.gov/policies/provisional-data-statement for more information.\n",
       "    #\n",
       "    # File-format description:  http://help.waterdata.usgs.gov/faq/about-tab-delimited-output\n",
       "    # Automated-retrieval info: http://help.waterdata.usgs.gov/faq/automated-retrievals\n",
       "    #\n",
       "    # Contact:   gs-w_support_nwisweb@usgs.gov\n",
       "    # retrieved: 2018-07-24 15:45:47 -04:00 (natwebcaas01)\n",
       "    #\n",
       "    # Data for the following 1 site(s) are contained in this file\n",
       "    #    USGS 11023000 SAN DIEGO R A FASHION VALLEY AT SAN DIEGO CA\n",
       "    # -----------------------------------------------------------------------------------\n",
       "    #\n",
       "    # TS_ID - An internal number representing a time series.\n",
       "    # IV_TS_ID - An internal number representing the Instantaneous Value time series from which the daily statistic is calculated.\n",
       "    #\n",
       "    # Data provided for site 11023000\n",
       "    #    TS_ID       Parameter    Statistic  IV_TS_ID       Description\n",
       "    #    7745        00060        00003      14023          Discharge, cubic feet per second (Mean)\n",
       "    #\n",
       "    # Data-value qualification codes included in this output:\n",
       "    #     A  Approved for publication -- Processing and review completed.\n",
       "    #     e  Value has been estimated.\n",
       "    #     P  Provisional data subject to revision.\n",
       "    #\n",
       "</pre>\n",
       "\n",
       "<h3>Documentation</h3>\n",
       "<ul>\n",
       "<li><strong><a href=\"https://waterservices.usgs.gov/rest/DV-Test-Tool.html\">URL Generation</a></strong> USGS Daily Values Web Service URL Generation Tool</li>\n",
       "</ul>\n",
       "<h3>Contacts</h3>\n",
       "<p><strong>Wrangler:</strong> <a href=\"mailto:eric@civicknowledge.com\">Eric Busboom</a> <a href=\"http://civicknowledge.com\">Civic Knowledge</a></p>\n",
       "<h3>Resources</h3>\n",
       "<p><ol>\n",
       "<li><p><strong>fashion_valley</strong> - <a target=\"_blank\" href=\"http://library.metatab.org/waterservices.usgs.gov-stream_discharge-fashion_valley_sd-1/data/fashion_valley.csv\">http://library.metatab.org/waterservices.usgs.gov-stream_discharge-fashion_valley_sd-1/data/fashion_valley.csv</a> Stream discharge rates for the San Diego River, Fashion Valley Station.</p></li></p>\n",
       "</ol>\n",
       "\n",
       "</ol>"
      ],
      "text/plain": [
       "<metapack.doc.MetapackDoc at 0x7fca7506c240>"
      ]
     },
     "execution_count": 3,
     "metadata": {},
     "output_type": "execute_result"
    }
   ],
   "source": [
    "pkg"
   ]
  },
  {
   "cell_type": "code",
   "execution_count": 4,
   "metadata": {},
   "outputs": [
    {
     "data": {
      "text/html": [
       "<h3><a name=\"resource-fashion_valley\"></a>fashion_valley</h3><p><a target=\"_blank\" href=\"http://library.metatab.org/waterservices.usgs.gov-stream_discharge-fashion_valley_sd-1/data/fashion_valley.csv\">http://library.metatab.org/waterservices.usgs.gov-stream_discharge-fashion_valley_sd-1/data/fashion_valley.csv</a></p><table>\n",
       "<tr><th>Header</th><th>Type</th><th>Description</th></tr><tr><td>agency_cd</td><td>string</td><td>Source agency. Always “USGS”</td></tr> \n",
       "<tr><td>site_no</td><td>integer</td><td>Site number, always “11023000”</td></tr> \n",
       "<tr><td>datetime</td><td>date</td><td>Reading date, in ISO format.</td></tr> \n",
       "<tr><td>discharge_rate</td><td>number</td><td>Mean discharge, in cubic feet per second ( USGS Parameter  7745_00060_00003 )</td></tr> \n",
       "<tr><td>qualification_code</td><td>string</td><td>A=Approved, e= Estimated, P=Provisional</td></tr> </table>"
      ],
      "text/plain": [
       "<Resource: waterservices.usgs.gov-stream_discharge-fashion_valley_sd-1.csv 27:1 root.datafile http://library.metatab.org/waterservices.usgs.gov-stream_discharge-fashion_valley_sd-1/data/fashion_valley.csv ['fashion_valley', 'Stream discharge rates for the San Diego River, Fashion Valley Station.', 'tsv']>"
      ]
     },
     "execution_count": 4,
     "metadata": {},
     "output_type": "execute_result"
    }
   ],
   "source": [
    "pkg.resource('fashion_valley')"
   ]
  },
  {
   "cell_type": "code",
   "execution_count": 5,
   "metadata": {},
   "outputs": [],
   "source": [
    "df = pkg.resource('fashion_valley').read_csv(parse_dates=True)"
   ]
  },
  {
   "cell_type": "code",
   "execution_count": 6,
   "metadata": {},
   "outputs": [
    {
     "data": {
      "text/html": [
       "<div>\n",
       "<style scoped>\n",
       "    .dataframe tbody tr th:only-of-type {\n",
       "        vertical-align: middle;\n",
       "    }\n",
       "\n",
       "    .dataframe tbody tr th {\n",
       "        vertical-align: top;\n",
       "    }\n",
       "\n",
       "    .dataframe thead th {\n",
       "        text-align: right;\n",
       "    }\n",
       "</style>\n",
       "<table border=\"1\" class=\"dataframe\">\n",
       "  <thead>\n",
       "    <tr style=\"text-align: right;\">\n",
       "      <th></th>\n",
       "      <th>agency_cd</th>\n",
       "      <th>site_no</th>\n",
       "      <th>datetime</th>\n",
       "      <th>discharge_rate</th>\n",
       "      <th>qualification_code</th>\n",
       "    </tr>\n",
       "  </thead>\n",
       "  <tbody>\n",
       "    <tr>\n",
       "      <th>0</th>\n",
       "      <td>USGS</td>\n",
       "      <td>11023000</td>\n",
       "      <td>1988-01-01</td>\n",
       "      <td>22.0</td>\n",
       "      <td>A</td>\n",
       "    </tr>\n",
       "    <tr>\n",
       "      <th>1</th>\n",
       "      <td>USGS</td>\n",
       "      <td>11023000</td>\n",
       "      <td>1988-01-02</td>\n",
       "      <td>20.0</td>\n",
       "      <td>A</td>\n",
       "    </tr>\n",
       "    <tr>\n",
       "      <th>2</th>\n",
       "      <td>USGS</td>\n",
       "      <td>11023000</td>\n",
       "      <td>1988-01-03</td>\n",
       "      <td>18.0</td>\n",
       "      <td>A</td>\n",
       "    </tr>\n",
       "    <tr>\n",
       "      <th>3</th>\n",
       "      <td>USGS</td>\n",
       "      <td>11023000</td>\n",
       "      <td>1988-01-04</td>\n",
       "      <td>18.0</td>\n",
       "      <td>A</td>\n",
       "    </tr>\n",
       "    <tr>\n",
       "      <th>4</th>\n",
       "      <td>USGS</td>\n",
       "      <td>11023000</td>\n",
       "      <td>1988-01-05</td>\n",
       "      <td>21.0</td>\n",
       "      <td>A</td>\n",
       "    </tr>\n",
       "  </tbody>\n",
       "</table>\n",
       "</div>"
      ],
      "text/plain": [
       "  agency_cd   site_no   datetime  discharge_rate qualification_code\n",
       "0      USGS  11023000 1988-01-01            22.0                  A\n",
       "1      USGS  11023000 1988-01-02            20.0                  A\n",
       "2      USGS  11023000 1988-01-03            18.0                  A\n",
       "3      USGS  11023000 1988-01-04            18.0                  A\n",
       "4      USGS  11023000 1988-01-05            21.0                  A"
      ]
     },
     "execution_count": 6,
     "metadata": {},
     "output_type": "execute_result"
    }
   ],
   "source": [
    "df.head()"
   ]
  },
  {
   "cell_type": "code",
   "execution_count": 7,
   "metadata": {},
   "outputs": [
    {
     "data": {
      "text/html": [
       "<div>\n",
       "<style scoped>\n",
       "    .dataframe tbody tr th:only-of-type {\n",
       "        vertical-align: middle;\n",
       "    }\n",
       "\n",
       "    .dataframe tbody tr th {\n",
       "        vertical-align: top;\n",
       "    }\n",
       "\n",
       "    .dataframe thead th {\n",
       "        text-align: right;\n",
       "    }\n",
       "</style>\n",
       "<table border=\"1\" class=\"dataframe\">\n",
       "  <thead>\n",
       "    <tr style=\"text-align: right;\">\n",
       "      <th></th>\n",
       "      <th>discharge_rate</th>\n",
       "    </tr>\n",
       "    <tr>\n",
       "      <th>datetime</th>\n",
       "      <th></th>\n",
       "    </tr>\n",
       "  </thead>\n",
       "  <tbody>\n",
       "    <tr>\n",
       "      <th>1988-01-01</th>\n",
       "      <td>22.0</td>\n",
       "    </tr>\n",
       "    <tr>\n",
       "      <th>1988-01-02</th>\n",
       "      <td>20.0</td>\n",
       "    </tr>\n",
       "    <tr>\n",
       "      <th>1988-01-03</th>\n",
       "      <td>18.0</td>\n",
       "    </tr>\n",
       "    <tr>\n",
       "      <th>1988-01-04</th>\n",
       "      <td>18.0</td>\n",
       "    </tr>\n",
       "    <tr>\n",
       "      <th>1988-01-05</th>\n",
       "      <td>21.0</td>\n",
       "    </tr>\n",
       "  </tbody>\n",
       "</table>\n",
       "</div>"
      ],
      "text/plain": [
       "            discharge_rate\n",
       "datetime                  \n",
       "1988-01-01            22.0\n",
       "1988-01-02            20.0\n",
       "1988-01-03            18.0\n",
       "1988-01-04            18.0\n",
       "1988-01-05            21.0"
      ]
     },
     "execution_count": 7,
     "metadata": {},
     "output_type": "execute_result"
    }
   ],
   "source": [
    "df = df[['datetime', 'discharge_rate']].copy().set_index('datetime')\n",
    "df.head()"
   ]
  },
  {
   "cell_type": "code",
   "execution_count": 8,
   "metadata": {},
   "outputs": [
    {
     "data": {
      "text/plain": [
       "<matplotlib.axes._subplots.AxesSubplot at 0x7fca74eb7128>"
      ]
     },
     "execution_count": 8,
     "metadata": {},
     "output_type": "execute_result"
    },
    {
     "data": {
      "image/png": "[encoded data removed]",
      "text/plain": [
       "<Figure size 1296x432 with 1 Axes>"
      ]
     },
     "metadata": {},
     "output_type": "display_data"
    }
   ],
   "source": [
    "fig, ax = plt.subplots(1,figsize=(18,6))\n",
    "df.plot(ax=ax)"
   ]
  },
  {
   "cell_type": "code",
   "execution_count": 9,
   "metadata": {},
   "outputs": [
    {
     "data": {
      "text/html": [
       "<h2>San Diego Beachwatch Data</h2>\n",
       "<p><p><em>Water quality data for San Diego county beaches.</em></p>\n",
       "<p><small>ceden.waterboards.ca.gov-beachwatch-sandiego-2 from metapack+http://library.metatab.org/ceden.waterboards.ca.gov-beachwatch-sandiego-2.zip#metadata.csv</small></p></p>\n",
       "<p>The Beachwatch data set has four bacteria measurements from 172 stations on the\n",
       "coast of San Diego county, from July 1998 to Decenber 2013. The four\n",
       "measurements are:</p>\n",
       "<ul>\n",
       "<li>Coliform, Total      66992</li>\n",
       "<li>Coliform, Fecal      65827</li>\n",
       "<li>Enterococcus         65010</li>\n",
       "<li>E. coli               4428</li>\n",
       "</ul>\n",
       "<h3>Documentation</h3>\n",
       "<ul>\n",
       "<li><strong><a href=\"https://www.waterboards.ca.gov/water_issues/programs/beaches/beach_water_quality/beaches_program.html\">overview</a></strong> Project Overview Page</li>\n",
       "<li><strong><a href=\"https://ceden.waterboards.ca.gov/AdvancedQueryTool\">source_page</a></strong> CEDEN advanced query tool page</li>\n",
       "</ul>\n",
       "<h3>Contacts</h3>\n",
       "<p><strong>Wrangler:</strong> <a href=\"mailto:eric@civicknowledge.com\">Eric Busboom</a> <a href=\"http://civicknowledge.com\">Civic Knowledge</a></p>\n",
       "<h3>Resources</h3>\n",
       "<p><ol>\n",
       "<li><p><strong>beachwatch-sd</strong> - <a target=\"_blank\" href=\"file:///home/jovyan/.local/share/metapack/library.metatab.org/ceden.waterboards.ca.gov-beachwatch-sandiego-2.zip_d/ceden.waterboards.ca.gov-beachwatch-sandiego-2/data/beachwatch-sd.csv\">file:///home/jovyan/.local/share/metapack/library.metatab.org/ceden.waterboards.ca.gov-beachwatch-sandiego-2.zip_d/ceden.waterboards.ca.gov-beachwatch-sandiego-2/data/beachwatch-sd.csv</a> Beachwatch program for San Diego county</p></li></p>\n",
       "</ol>\n",
       "\n",
       "</ol>"
      ],
      "text/plain": [
       "<metapack.doc.MetapackDoc at 0x7fca74fc8b00>"
      ]
     },
     "execution_count": 9,
     "metadata": {},
     "output_type": "execute_result"
    }
   ],
   "source": [
    "bw_pkg = mp.open_package('http://library.metatab.org/ceden.waterboards.ca.gov-beachwatch-sandiego-2.zip')\n",
    "bw_pkg"
   ]
  },
  {
   "cell_type": "code",
   "execution_count": 10,
   "metadata": {},
   "outputs": [],
   "source": [
    "bw_df = bw_pkg.resource('beachwatch-sd').read_csv()\n",
    "# It looks like the prefix of the station code groups stations, maybe into watersheds. \n",
    "bw_df['stationgroup'] = bw_df.stationcode.str[:2]"
   ]
  },
  {
   "cell_type": "code",
   "execution_count": 11,
   "metadata": {},
   "outputs": [],
   "source": [
    "bw_stations = bw_df[['stationname','stationcode','stationgroup','targetlongitude','targetlatitude']].drop_duplicates()\n"
   ]
  },
  {
   "cell_type": "code",
   "execution_count": 12,
   "metadata": {},
   "outputs": [],
   "source": [
    "## Load a Metapack data package of the US Counties, then extract San Diego county by it's FIPS code, state=6\n",
    "## county=73 \n",
    "counties_pkg = mp.open_package('http://library.metatab.org/census.gov-counties-2017-2.csv')\n",
    "\n",
    "# Use the Metapack feature for turning the Pandas dataframe into a GeoPandas dataframe\n",
    "counties = counties_pkg.resource('counties').geoframe()\n",
    "\n",
    "sd_county = counties[(counties.statefp==6) & (counties.countyfp==73) ]"
   ]
  },
  {
   "cell_type": "code",
   "execution_count": 13,
   "metadata": {},
   "outputs": [],
   "source": [
    "import folium\n"
   ]
  },
  {
   "cell_type": "code",
   "execution_count": 14,
   "metadata": {},
   "outputs": [
    {
     "data": {
      "text/plain": [
       "<matplotlib.axes._subplots.AxesSubplot at 0x7fca5da77da0>"
      ]
     },
     "execution_count": 14,
     "metadata": {},
     "output_type": "execute_result"
    },
    {
     "data": {
      "image/png": "[encoded data removed]",
      "text/plain": [
       "<Figure size 432x288 with 1 Axes>"
      ]
     },
     "metadata": {},
     "output_type": "display_data"
    }
   ],
   "source": [
    "from shapely.geometry import Point\n",
    "import geopandas as gpd\n",
    "\n",
    "\n",
    "## Create a new GeoPandas frame, converting the targetlongitude and targetlatitude\n",
    "## colums to a Shapely Point and assigning it to the frame's geometry\n",
    "\n",
    "gdf = gpd.GeoDataFrame(bw_stations, geometry=\n",
    "                        [Point(x,y) for x,y in zip(bw_stations.targetlongitude, bw_stations.targetlatitude)])\n",
    "\n",
    "# Here is a quick plot\n",
    "gdf.plot(column='stationgroup')"
   ]
  },
  {
   "cell_type": "code",
   "execution_count": 15,
   "metadata": {},
   "outputs": [
    {
     "data": {
      "text/html": [
       "<div style=\"width:100%;\"><div style=\"position:relative;width:100%;height:0;padding-bottom:60%;\"><iframe src=\"data:text/html;charset=utf-8;base64,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\" style=\"position:absolute;width:100%;height:100%;left:0;top:0;border:none !important;\" allowfullscreen webkitallowfullscreen mozallowfullscreen></iframe></div></div>"
      ],
      "text/plain": [
       "<folium.folium.Map at 0x7fca5d9cf8d0>"
      ]
     },
     "execution_count": 15,
     "metadata": {},
     "output_type": "execute_result"
    }
   ],
   "source": [
    "\n",
    "import folium\n",
    "\n",
    "center = [32.755, -117.253] # Approx Dog Beach\n",
    "\n",
    "\n",
    "m = folium.Map(location=center, zoom_start=13, control_scale=True)\n",
    "\n",
    "for idx, row in bw_stations.iterrows():\n",
    "    if row.stationcode.startswith(\"PL\"):\n",
    "        \n",
    "        folium.Marker(location=[row.targetlatitude, row.targetlongitude],\n",
    "                          icon=folium.DivIcon(\n",
    "                            icon_size=(250,36),\n",
    "                            icon_anchor=(0,0),\n",
    "                            html='<div style=\"font-size: 10pt\">{}</div>'.format(row.stationname),\n",
    "                            )\n",
    "                     ).add_to(m)\n",
    "        folium.Marker(location=[row.targetlatitude, row.targetlongitude], popup=row.stationname).add_to(m)\n",
    "    \n",
    "m.save('pl_stations.html')\n",
    "m"
   ]
  },
  {
   "cell_type": "code",
   "execution_count": null,
   "metadata": {},
   "outputs": [],
   "source": []
  }
 ],
 "metadata": {
  "kernelspec": {
   "display_name": "Python 3",
   "language": "python",
   "name": "python3"
  },
  "language_info": {
   "codemirror_mode": {
    "name": "ipython",
    "version": 3
   },
   "file_extension": ".py",
   "mimetype": "text/x-python",
   "name": "python",
   "nbconvert_exporter": "python",
   "pygments_lexer": "ipython3",
   "version": "3.6.4"
  }
 },
 "nbformat": 4,
 "nbformat_minor": 2
}
