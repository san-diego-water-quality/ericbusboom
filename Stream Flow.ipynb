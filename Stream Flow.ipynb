{
 "cells": [
  {
   "cell_type": "markdown",
   "metadata": {},
   "source": [
    "# San Diego River Flow Rates at Fashion Valley\n",
    "\n",
    "One problem with connecting the stream flow of the San Diego river to beach pollution is that the river flows through Dog beach, which is littered with dog feces. It's quite possible the station closest to the moth of the river, `PL-0100` is more correlated with the tides than with the river flow. \n"
   ]
  },
  {
   "cell_type": "code",
   "execution_count": null,
   "metadata": {},
   "outputs": [],
   "source": []
  },
  {
   "cell_type": "code",
   "execution_count": 1,
   "metadata": {},
   "outputs": [],
   "source": [
    "import matplotlib.pyplot as plt \n",
    "import metapack as mp\n",
    "import pandas as pd\n",
    "import numpy as np"
   ]
  },
  {
   "cell_type": "code",
   "execution_count": 2,
   "metadata": {},
   "outputs": [],
   "source": [
    "pkg = mp.open_package('http://library.metatab.org/waterservices.usgs.gov-stream_discharge-fashion_valley_sd-1.csv')"
   ]
  },
  {
   "cell_type": "code",
   "execution_count": 3,
   "metadata": {},
   "outputs": [
    {
     "data": {
      "text/html": [
       "<h2>Fashion Valley Stream Discharge Rates</h2>\n",
       "<p><p><em>Stream discharge rates for the Fashion Valley station on the San Diego river, from 1988 on</em></p>\n",
       "<p><small>waterservices.usgs.gov-stream_discharge-fashion_valley_sd-1 from metapack+http://library.metatab.org/waterservices.usgs.gov-stream_discharge-fashion_valley_sd-1.csv</small></p></p>\n",
       "<h2>Original Notice</h2>\n",
       "<p>The data file includes this comment header:</p>\n",
       "<pre>\n",
       "    # ---------------------------------- WARNING ----------------------------------------\n",
       "    # Some of the data that you have obtained from this U.S. Geological Survey database may not \n",
       "    # have received Director's approval.  Any such data values are qualified as provisional and \n",
       "    # are subject to revision.  Provisional data are released on the condition that neither the \n",
       "    # USGS nor the United States Government may be held liable for any damages resulting from its use.\n",
       "    #  Go to http://help.waterdata.usgs.gov/policies/provisional-data-statement for more information.\n",
       "    #\n",
       "    # File-format description:  http://help.waterdata.usgs.gov/faq/about-tab-delimited-output\n",
       "    # Automated-retrieval info: http://help.waterdata.usgs.gov/faq/automated-retrievals\n",
       "    #\n",
       "    # Contact:   gs-w_support_nwisweb@usgs.gov\n",
       "    # retrieved: 2018-07-24 15:45:47 -04:00 (natwebcaas01)\n",
       "    #\n",
       "    # Data for the following 1 site(s) are contained in this file\n",
       "    #    USGS 11023000 SAN DIEGO R A FASHION VALLEY AT SAN DIEGO CA\n",
       "    # -----------------------------------------------------------------------------------\n",
       "    #\n",
       "    # TS_ID - An internal number representing a time series.\n",
       "    # IV_TS_ID - An internal number representing the Instantaneous Value time series from which the daily statistic is calculated.\n",
       "    #\n",
       "    # Data provided for site 11023000\n",
       "    #    TS_ID       Parameter    Statistic  IV_TS_ID       Description\n",
       "    #    7745        00060        00003      14023          Discharge, cubic feet per second (Mean)\n",
       "    #\n",
       "    # Data-value qualification codes included in this output:\n",
       "    #     A  Approved for publication -- Processing and review completed.\n",
       "    #     e  Value has been estimated.\n",
       "    #     P  Provisional data subject to revision.\n",
       "    #\n",
       "</pre>\n",
       "\n",
       "<h3>Documentation</h3>\n",
       "<ul>\n",
       "<li><strong><a href=\"https://waterservices.usgs.gov/rest/DV-Test-Tool.html\">URL Generation</a></strong> USGS Daily Values Web Service URL Generation Tool</li>\n",
       "</ul>\n",
       "<h3>Contacts</h3>\n",
       "<p><strong>Wrangler:</strong> <a href=\"mailto:eric@civicknowledge.com\">Eric Busboom</a> <a href=\"http://civicknowledge.com\">Civic Knowledge</a></p>\n",
       "<h3>Resources</h3>\n",
       "<p><ol>\n",
       "<li><p><strong>fashion_valley</strong> - <a target=\"_blank\" href=\"http://library.metatab.org/waterservices.usgs.gov-stream_discharge-fashion_valley_sd-1/data/fashion_valley.csv\">http://library.metatab.org/waterservices.usgs.gov-stream_discharge-fashion_valley_sd-1/data/fashion_valley.csv</a> Stream discharge rates for the San Diego River, Fashion Valley Station.</p></li></p>\n",
       "</ol>\n",
       "\n",
       "</ol>"
      ],
      "text/plain": [
       "<metapack.doc.MetapackDoc at 0x7fc3e2aa47f0>"
      ]
     },
     "execution_count": 3,
     "metadata": {},
     "output_type": "execute_result"
    }
   ],
   "source": [
    "pkg"
   ]
  },
  {
   "cell_type": "code",
   "execution_count": 4,
   "metadata": {},
   "outputs": [
    {
     "data": {
      "text/html": [
       "<h3><a name=\"resource-fashion_valley\"></a>fashion_valley</h3><p><a target=\"_blank\" href=\"http://library.metatab.org/waterservices.usgs.gov-stream_discharge-fashion_valley_sd-1/data/fashion_valley.csv\">http://library.metatab.org/waterservices.usgs.gov-stream_discharge-fashion_valley_sd-1/data/fashion_valley.csv</a></p><table>\n",
       "<tr><th>Header</th><th>Type</th><th>Description</th></tr><tr><td>agency_cd</td><td>string</td><td>Source agency. Always “USGS”</td></tr> \n",
       "<tr><td>site_no</td><td>integer</td><td>Site number, always “11023000”</td></tr> \n",
       "<tr><td>datetime</td><td>date</td><td>Reading date, in ISO format.</td></tr> \n",
       "<tr><td>discharge_rate</td><td>number</td><td>Mean discharge, in cubic feet per second ( USGS Parameter  7745_00060_00003 )</td></tr> \n",
       "<tr><td>qualification_code</td><td>string</td><td>A=Approved, e= Estimated, P=Provisional</td></tr> </table>"
      ],
      "text/plain": [
       "<Resource: waterservices.usgs.gov-stream_discharge-fashion_valley_sd-1.csv 27:1 root.datafile http://library.metatab.org/waterservices.usgs.gov-stream_discharge-fashion_valley_sd-1/data/fashion_valley.csv ['fashion_valley', 'Stream discharge rates for the San Diego River, Fashion Valley Station.', 'tsv']>"
      ]
     },
     "execution_count": 4,
     "metadata": {},
     "output_type": "execute_result"
    }
   ],
   "source": [
    "pkg.resource('fashion_valley')"
   ]
  },
  {
   "cell_type": "code",
   "execution_count": 5,
   "metadata": {},
   "outputs": [],
   "source": [
    "df = pkg.resource('fashion_valley').read_csv(parse_dates=True)"
   ]
  },
  {
   "cell_type": "code",
   "execution_count": 6,
   "metadata": {},
   "outputs": [
    {
     "data": {
      "text/html": [
       "<div>\n",
       "<style scoped>\n",
       "    .dataframe tbody tr th:only-of-type {\n",
       "        vertical-align: middle;\n",
       "    }\n",
       "\n",
       "    .dataframe tbody tr th {\n",
       "        vertical-align: top;\n",
       "    }\n",
       "\n",
       "    .dataframe thead th {\n",
       "        text-align: right;\n",
       "    }\n",
       "</style>\n",
       "<table border=\"1\" class=\"dataframe\">\n",
       "  <thead>\n",
       "    <tr style=\"text-align: right;\">\n",
       "      <th></th>\n",
       "      <th>agency_cd</th>\n",
       "      <th>site_no</th>\n",
       "      <th>datetime</th>\n",
       "      <th>discharge_rate</th>\n",
       "      <th>qualification_code</th>\n",
       "    </tr>\n",
       "  </thead>\n",
       "  <tbody>\n",
       "    <tr>\n",
       "      <th>0</th>\n",
       "      <td>USGS</td>\n",
       "      <td>11023000</td>\n",
       "      <td>1988-01-01</td>\n",
       "      <td>22.0</td>\n",
       "      <td>A</td>\n",
       "    </tr>\n",
       "    <tr>\n",
       "      <th>1</th>\n",
       "      <td>USGS</td>\n",
       "      <td>11023000</td>\n",
       "      <td>1988-01-02</td>\n",
       "      <td>20.0</td>\n",
       "      <td>A</td>\n",
       "    </tr>\n",
       "    <tr>\n",
       "      <th>2</th>\n",
       "      <td>USGS</td>\n",
       "      <td>11023000</td>\n",
       "      <td>1988-01-03</td>\n",
       "      <td>18.0</td>\n",
       "      <td>A</td>\n",
       "    </tr>\n",
       "    <tr>\n",
       "      <th>3</th>\n",
       "      <td>USGS</td>\n",
       "      <td>11023000</td>\n",
       "      <td>1988-01-04</td>\n",
       "      <td>18.0</td>\n",
       "      <td>A</td>\n",
       "    </tr>\n",
       "    <tr>\n",
       "      <th>4</th>\n",
       "      <td>USGS</td>\n",
       "      <td>11023000</td>\n",
       "      <td>1988-01-05</td>\n",
       "      <td>21.0</td>\n",
       "      <td>A</td>\n",
       "    </tr>\n",
       "  </tbody>\n",
       "</table>\n",
       "</div>"
      ],
      "text/plain": [
       "  agency_cd   site_no   datetime  discharge_rate qualification_code\n",
       "0      USGS  11023000 1988-01-01            22.0                  A\n",
       "1      USGS  11023000 1988-01-02            20.0                  A\n",
       "2      USGS  11023000 1988-01-03            18.0                  A\n",
       "3      USGS  11023000 1988-01-04            18.0                  A\n",
       "4      USGS  11023000 1988-01-05            21.0                  A"
      ]
     },
     "execution_count": 6,
     "metadata": {},
     "output_type": "execute_result"
    }
   ],
   "source": [
    "df.head()"
   ]
  },
  {
   "cell_type": "code",
   "execution_count": 7,
   "metadata": {},
   "outputs": [
    {
     "data": {
      "text/html": [
       "<div>\n",
       "<style scoped>\n",
       "    .dataframe tbody tr th:only-of-type {\n",
       "        vertical-align: middle;\n",
       "    }\n",
       "\n",
       "    .dataframe tbody tr th {\n",
       "        vertical-align: top;\n",
       "    }\n",
       "\n",
       "    .dataframe thead th {\n",
       "        text-align: right;\n",
       "    }\n",
       "</style>\n",
       "<table border=\"1\" class=\"dataframe\">\n",
       "  <thead>\n",
       "    <tr style=\"text-align: right;\">\n",
       "      <th></th>\n",
       "      <th>discharge_rate</th>\n",
       "    </tr>\n",
       "    <tr>\n",
       "      <th>datetime</th>\n",
       "      <th></th>\n",
       "    </tr>\n",
       "  </thead>\n",
       "  <tbody>\n",
       "    <tr>\n",
       "      <th>1988-01-01</th>\n",
       "      <td>22.0</td>\n",
       "    </tr>\n",
       "    <tr>\n",
       "      <th>1988-01-02</th>\n",
       "      <td>20.0</td>\n",
       "    </tr>\n",
       "    <tr>\n",
       "      <th>1988-01-03</th>\n",
       "      <td>18.0</td>\n",
       "    </tr>\n",
       "    <tr>\n",
       "      <th>1988-01-04</th>\n",
       "      <td>18.0</td>\n",
       "    </tr>\n",
       "    <tr>\n",
       "      <th>1988-01-05</th>\n",
       "      <td>21.0</td>\n",
       "    </tr>\n",
       "  </tbody>\n",
       "</table>\n",
       "</div>"
      ],
      "text/plain": [
       "            discharge_rate\n",
       "datetime                  \n",
       "1988-01-01            22.0\n",
       "1988-01-02            20.0\n",
       "1988-01-03            18.0\n",
       "1988-01-04            18.0\n",
       "1988-01-05            21.0"
      ]
     },
     "execution_count": 7,
     "metadata": {},
     "output_type": "execute_result"
    }
   ],
   "source": [
    "df = df[['datetime', 'discharge_rate']].copy().set_index('datetime')\n",
    "df.head()"
   ]
  },
  {
   "cell_type": "code",
   "execution_count": 8,
   "metadata": {},
   "outputs": [
    {
     "data": {
      "text/plain": [
       "<matplotlib.axes._subplots.AxesSubplot at 0x7fc3e28d7c88>"
      ]
     },
     "execution_count": 8,
     "metadata": {},
     "output_type": "execute_result"
    },
    {
     "data": {
      "image/png": "[encoded data removed]",
      "text/plain": [
       "<Figure size 1296x432 with 1 Axes>"
      ]
     },
     "metadata": {},
     "output_type": "display_data"
    }
   ],
   "source": [
    "fig, ax = plt.subplots(1,figsize=(18,6))\n",
    "df.plot(ax=ax)"
   ]
  },
  {
   "cell_type": "code",
   "execution_count": 9,
   "metadata": {},
   "outputs": [
    {
     "data": {
      "text/plain": [
       "array([[<matplotlib.axes._subplots.AxesSubplot object at 0x7fc3e05a0908>]],\n",
       "      dtype=object)"
      ]
     },
     "execution_count": 9,
     "metadata": {},
     "output_type": "execute_result"
    },
    {
     "data": {
      "image/png": "[encoded data removed]",
      "text/plain": [
       "<Figure size 432x288 with 1 Axes>"
      ]
     },
     "metadata": {},
     "output_type": "display_data"
    }
   ],
   "source": [
    "df[df.discharge_rate > 2000 ].hist()"
   ]
  },
  {
   "cell_type": "code",
   "execution_count": 10,
   "metadata": {},
   "outputs": [
    {
     "data": {
      "text/html": [
       "<h2>San Diego Beachwatch Data</h2>\n",
       "<p><p><em>Water quality data for San Diego county beaches.</em></p>\n",
       "<p><small>ceden.waterboards.ca.gov-beachwatch-sandiego-2 from metapack+http://library.metatab.org/ceden.waterboards.ca.gov-beachwatch-sandiego-2.zip#metadata.csv</small></p></p>\n",
       "<p>The Beachwatch data set has four bacteria measurements from 172 stations on the\n",
       "coast of San Diego county, from July 1998 to Decenber 2013. The four\n",
       "measurements are:</p>\n",
       "<ul>\n",
       "<li>Coliform, Total      66992</li>\n",
       "<li>Coliform, Fecal      65827</li>\n",
       "<li>Enterococcus         65010</li>\n",
       "<li>E. coli               4428</li>\n",
       "</ul>\n",
       "<p>There are two units for the measurements: </p>\n",
       "<ul>\n",
       "<li>MPN/100 mL: \"Most Probable Number\"</li>\n",
       "<li>cfu/100mL: \"Colony forming units\". Number of viable bacteria, excluding the dead ones. </li>\n",
       "</ul>\n",
       "<p>From <a href=\"http://www.cascadeanalytical.com/resources-downloads/faqs\">Cascade Analytical</a>:</p>\n",
       "<pre><code>What does CFU and MPN mean? A: CFU stands for 'Colony Forming Units' and\n",
       "refers to the number of viable bacterial cells in a sample per unit of\n",
       "volume. For example: 50 CFU/100 mL means 50 Colony Forming Units per 100 mL\n",
       "of sample. It is different from the direct microscopic counts that include\n",
       "both dead and living cells.\n",
       "\n",
       "MPN stands for 'Most Probable Number' and refers to a method that uses\n",
       "dilution cultures and a probability calculation to determine the\n",
       "approximate number of viable cells in a given volume of sample. It is\n",
       "useful when samples contain too few organisms for agar plates to be used or\n",
       "when organisms will not grow on agar. For example: 50 MPN/100 mL means that\n",
       "the Most Probable Number of viable cells in 100 mL of sample is 50.\n",
       "</code></pre>\n",
       "<p>I haven't found traditional data dictionary documentation, <a href=\"http://ceden.org/CEDEN_checker/Checker/LookUpLists.php\">but there are\n",
       "controlled vocabulary lists</a> online for data submitters, which explain a lot of\n",
       "the columns.</p>\n",
       "<h3>Documentation</h3>\n",
       "<ul>\n",
       "<li><strong><a href=\"https://www.waterboards.ca.gov/water_issues/programs/beaches/beach_water_quality/beaches_program.html\">overview</a></strong> Project Overview Page</li>\n",
       "<li><strong><a href=\"https://ceden.waterboards.ca.gov/AdvancedQueryTool\">source_page</a></strong> CEDEN advanced query tool page</li>\n",
       "<li><strong><a href=\"https://ceden.waterboards.ca.gov/Metadata/ControlledVocab.php\">controlled_vocab</a></strong> Controlled vocabulary search page</li>\n",
       "<li><strong><a href=\"https://ceden.waterboards.ca.gov/Metadata/get_lu_data.php?format=html&amp;table=AnalyteLU&amp;include_all=yes\">analyte_cv</a></strong> Analyte controlled vocabulary</li>\n",
       "<li><strong><a href=\"https://ceden.waterboards.ca.gov/Metadata/get_lu_data.php?format=html&amp;table=MethodLU&amp;include_all=yes\">method_cv</a></strong> Method controlled  vocabulary</li>\n",
       "<li><strong><a href=\"https://ceden.waterboards.ca.gov/Metadata/get_lu_data.php?format=html&amp;table=ResultQualityLU&amp;include_all=yes\">result_qual_cv</a></strong> Result Qualifier controlled vocabulary</li>\n",
       "<li><strong><a href=\"https://ceden.waterboards.ca.gov/Metadata/get_lu_data.php?format=html&amp;table=QA_LU&amp;include_all=yes\">qa_cv</a></strong> QA controlled vocabulary</li>\n",
       "</ul>\n",
       "<h3>Contacts</h3>\n",
       "<p><strong>Wrangler:</strong> <a href=\"mailto:eric@civicknowledge.com\">Eric Busboom</a> <a href=\"http://civicknowledge.com\">Civic Knowledge</a></p>\n",
       "<h3>Resources</h3>\n",
       "<p><ol>\n",
       "<li><p><strong>beachwatch-sd</strong> - <a target=\"_blank\" href=\"file:///home/jovyan/.local/share/metapack/library.metatab.org/ceden.waterboards.ca.gov-beachwatch-sandiego-2.zip_d/ceden.waterboards.ca.gov-beachwatch-sandiego-2/data/beachwatch-sd.csv\">file:///home/jovyan/.local/share/metapack/library.metatab.org/ceden.waterboards.ca.gov-beachwatch-sandiego-2.zip_d/ceden.waterboards.ca.gov-beachwatch-sandiego-2/data/beachwatch-sd.csv</a> Beachwatch program for San Diego county</p></li></p>\n",
       "</ol>\n",
       "\n",
       "</ol>"
      ],
      "text/plain": [
       "<metapack.doc.MetapackDoc at 0x7fc3e274a208>"
      ]
     },
     "execution_count": 10,
     "metadata": {},
     "output_type": "execute_result"
    }
   ],
   "source": [
    "bw_pkg = mp.open_package('http://library.metatab.org/ceden.waterboards.ca.gov-beachwatch-sandiego-2.zip')\n",
    "bw_pkg"
   ]
  },
  {
   "cell_type": "code",
   "execution_count": 11,
   "metadata": {},
   "outputs": [],
   "source": [
    "bw_df = bw_pkg.resource('beachwatch-sd').read_csv()\n",
    "# It looks like the prefix of the station code groups stations, maybe into watersheds. \n",
    "bw_df['stationgroup'] = bw_df.stationcode.str[:2]"
   ]
  },
  {
   "cell_type": "code",
   "execution_count": 12,
   "metadata": {},
   "outputs": [],
   "source": [
    "bw_stations = bw_df[['stationname','stationcode','stationgroup','targetlongitude','targetlatitude']].drop_duplicates()\n"
   ]
  },
  {
   "cell_type": "code",
   "execution_count": 13,
   "metadata": {},
   "outputs": [],
   "source": [
    "## Load a Metapack data package of the US Counties, then extract San Diego county by it's FIPS code, state=6\n",
    "## county=73 \n",
    "counties_pkg = mp.open_package('http://library.metatab.org/census.gov-counties-2017-2.csv')\n",
    "\n",
    "# Use the Metapack feature for turning the Pandas dataframe into a GeoPandas dataframe\n",
    "counties = counties_pkg.resource('counties').geoframe()\n",
    "\n",
    "sd_county = counties[(counties.statefp==6) & (counties.countyfp==73) ]"
   ]
  },
  {
   "cell_type": "code",
   "execution_count": 14,
   "metadata": {},
   "outputs": [
    {
     "ename": "ModuleNotFoundError",
     "evalue": "No module named 'folium'",
     "output_type": "error",
     "traceback": [
      "\u001b[0;31m---------------------------------------------------------------------------\u001b[0m",
      "\u001b[0;31mModuleNotFoundError\u001b[0m                       Traceback (most recent call last)",
      "\u001b[0;32m<ipython-input-14-173c1173bf1c>\u001b[0m in \u001b[0;36m<module>\u001b[0;34m()\u001b[0m\n\u001b[0;32m----> 1\u001b[0;31m \u001b[0;32mimport\u001b[0m \u001b[0mfolium\u001b[0m\u001b[0;34m\u001b[0m\u001b[0m\n\u001b[0m",
      "\u001b[0;31mModuleNotFoundError\u001b[0m: No module named 'folium'"
     ]
    }
   ],
   "source": [
    "import folium\n"
   ]
  },
  {
   "cell_type": "code",
   "execution_count": null,
   "metadata": {},
   "outputs": [],
   "source": [
    "from shapely.geometry import Point\n",
    "import geopandas as gpd\n",
    "\n",
    "\n",
    "## Create a new GeoPandas frame, converting the targetlongitude and targetlatitude\n",
    "## colums to a Shapely Point and assigning it to the frame's geometry\n",
    "\n",
    "gdf = gpd.GeoDataFrame(bw_stations, geometry=\n",
    "                        [Point(x,y) for x,y in zip(bw_stations.targetlongitude, bw_stations.targetlatitude)])\n",
    "\n",
    "# Here is a quick plot\n",
    "gdf.plot(column='stationgroup')"
   ]
  },
  {
   "cell_type": "code",
   "execution_count": null,
   "metadata": {},
   "outputs": [],
   "source": [
    "\n",
    "import folium\n",
    "\n",
    "center = [32.755, -117.253] # Approx Dog Beach\n",
    "\n",
    "\n",
    "m = folium.Map(location=center, zoom_start=13, control_scale=True)\n",
    "\n",
    "for idx, row in bw_stations.iterrows():\n",
    "    if row.stationcode.startswith(\"PL\"):\n",
    "        \n",
    "        folium.Marker(location=[row.targetlatitude, row.targetlongitude],\n",
    "                          icon=folium.DivIcon(\n",
    "                            icon_size=(250,36),\n",
    "                            icon_anchor=(0,0),\n",
    "                            html='<div style=\"font-size: 10pt\">{}</div>'.format(row.stationname),\n",
    "                            )\n",
    "                     ).add_to(m)\n",
    "        folium.Marker(location=[row.targetlatitude, row.targetlongitude], popup=row.stationname).add_to(m)\n",
    "    \n",
    "m.save('pl_stations.html')\n",
    "m"
   ]
  },
  {
   "cell_type": "code",
   "execution_count": null,
   "metadata": {},
   "outputs": [],
   "source": [
    "\n",
    "\n",
    "import pandas_profiling  as pp"
   ]
  },
  {
   "cell_type": "code",
   "execution_count": null,
   "metadata": {},
   "outputs": [],
   "source": []
  }
 ],
 "metadata": {
  "kernelspec": {
   "display_name": "Python 3",
   "language": "python",
   "name": "python3"
  },
  "language_info": {
   "codemirror_mode": {
    "name": "ipython",
    "version": 3
   },
   "file_extension": ".py",
   "mimetype": "text/x-python",
   "name": "python",
   "nbconvert_exporter": "python",
   "pygments_lexer": "ipython3",
   "version": "3.6.4"
  }
 },
 "nbformat": 4,
 "nbformat_minor": 2
}
