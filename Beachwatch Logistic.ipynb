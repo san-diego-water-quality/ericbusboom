{
 "cells": [
  {
   "cell_type": "code",
   "execution_count": 25,
   "metadata": {},
   "outputs": [],
   "source": [
    "import matplotlib.pyplot as plt \n",
    "import metapack as mp\n",
    "import pandas as pd\n",
    "import numpy as np\n",
    "import seaborn as sns\n",
    "sns.set(color_codes=True)\n",
    "%matplotlib inline"
   ]
  },
  {
   "cell_type": "code",
   "execution_count": 2,
   "metadata": {},
   "outputs": [],
   "source": [
    "pkg = mp.open_package('http://library.metatab.org/ceden.waterboards.ca.gov-beachwatch-sandiego-2.zip')\n",
    "\n",
    "pkg\n",
    "\n",
    "df = pkg.resource('beachwatch-sd').read_csv(parse_dates=True)\n",
    "\n",
    "# It looks like the prefix of the station code groups stations, maybe into watersheds. \n",
    "df['stationgroup'] = df.stationcode.str[:2]\n",
    "\n",
    "df = df[['stationcode','sampledate','methodname','unit','analyte','result']]\n"
   ]
  },
  {
   "cell_type": "code",
   "execution_count": 3,
   "metadata": {},
   "outputs": [
    {
     "data": {
      "text/html": [
       "<div>\n",
       "<style scoped>\n",
       "    .dataframe tbody tr th:only-of-type {\n",
       "        vertical-align: middle;\n",
       "    }\n",
       "\n",
       "    .dataframe tbody tr th {\n",
       "        vertical-align: top;\n",
       "    }\n",
       "\n",
       "    .dataframe thead th {\n",
       "        text-align: right;\n",
       "    }\n",
       "</style>\n",
       "<table border=\"1\" class=\"dataframe\">\n",
       "  <thead>\n",
       "    <tr style=\"text-align: right;\">\n",
       "      <th></th>\n",
       "      <th></th>\n",
       "      <th></th>\n",
       "      <th></th>\n",
       "      <th>result_count</th>\n",
       "      <th>group_std</th>\n",
       "      <th>group_mean</th>\n",
       "      <th>group_median</th>\n",
       "    </tr>\n",
       "    <tr>\n",
       "      <th>stationcode</th>\n",
       "      <th>methodname</th>\n",
       "      <th>analyte</th>\n",
       "      <th>unit</th>\n",
       "      <th></th>\n",
       "      <th></th>\n",
       "      <th></th>\n",
       "      <th></th>\n",
       "    </tr>\n",
       "  </thead>\n",
       "  <tbody>\n",
       "    <tr>\n",
       "      <th rowspan=\"5\" valign=\"top\">EH-010</th>\n",
       "      <th rowspan=\"2\" valign=\"top\">Colilert-18</th>\n",
       "      <th>Coliform, Total</th>\n",
       "      <th>MPN/100 mL</th>\n",
       "      <td>16</td>\n",
       "      <td>2754.504235</td>\n",
       "      <td>2069.125000</td>\n",
       "      <td>524.0</td>\n",
       "    </tr>\n",
       "    <tr>\n",
       "      <th>E. coli</th>\n",
       "      <th>MPN/100 mL</th>\n",
       "      <td>16</td>\n",
       "      <td>414.620791</td>\n",
       "      <td>190.500000</td>\n",
       "      <td>20.0</td>\n",
       "    </tr>\n",
       "    <tr>\n",
       "      <th rowspan=\"2\" valign=\"top\">Enterolert</th>\n",
       "      <th rowspan=\"2\" valign=\"top\">Enterococcus</th>\n",
       "      <th>MPN/100 mL</th>\n",
       "      <td>389</td>\n",
       "      <td>426.067900</td>\n",
       "      <td>151.406170</td>\n",
       "      <td>10.0</td>\n",
       "    </tr>\n",
       "    <tr>\n",
       "      <th>cfu/100mL</th>\n",
       "      <td>9</td>\n",
       "      <td>681.020191</td>\n",
       "      <td>320.333333</td>\n",
       "      <td>10.0</td>\n",
       "    </tr>\n",
       "    <tr>\n",
       "      <th>MTF</th>\n",
       "      <th>Coliform, Fecal</th>\n",
       "      <th>MPN/100 mL</th>\n",
       "      <td>213</td>\n",
       "      <td>1647.469843</td>\n",
       "      <td>376.478873</td>\n",
       "      <td>20.0</td>\n",
       "    </tr>\n",
       "  </tbody>\n",
       "</table>\n",
       "</div>"
      ],
      "text/plain": [
       "                                                    result_count    group_std  \\\n",
       "stationcode methodname  analyte         unit                                    \n",
       "EH-010      Colilert-18 Coliform, Total MPN/100 mL            16  2754.504235   \n",
       "                        E. coli         MPN/100 mL            16   414.620791   \n",
       "            Enterolert  Enterococcus    MPN/100 mL           389   426.067900   \n",
       "                                        cfu/100mL              9   681.020191   \n",
       "            MTF         Coliform, Fecal MPN/100 mL           213  1647.469843   \n",
       "\n",
       "                                                     group_mean  group_median  \n",
       "stationcode methodname  analyte         unit                                   \n",
       "EH-010      Colilert-18 Coliform, Total MPN/100 mL  2069.125000         524.0  \n",
       "                        E. coli         MPN/100 mL   190.500000          20.0  \n",
       "            Enterolert  Enterococcus    MPN/100 mL   151.406170          10.0  \n",
       "                                        cfu/100mL    320.333333          10.0  \n",
       "            MTF         Coliform, Fecal MPN/100 mL   376.478873          20.0  "
      ]
     },
     "execution_count": 3,
     "metadata": {},
     "output_type": "execute_result"
    }
   ],
   "source": [
    "# Group stats\n",
    "\n",
    "dfc_gs = df[['stationcode','sampledate','methodname','analyte','unit', 'result']]\\\n",
    "         .groupby(['stationcode','methodname','analyte','unit']).agg({'result':['count','std','mean','median']})\n",
    "dfc_gs.columns = ['result_count', 'group_std', 'group_mean', 'group_median']\n",
    "#dfm.reset_index(inplace=True)\n",
    "dfc_gs.head()"
   ]
  },
  {
   "cell_type": "code",
   "execution_count": 4,
   "metadata": {},
   "outputs": [
    {
     "data": {
      "text/html": [
       "<div>\n",
       "<style scoped>\n",
       "    .dataframe tbody tr th:only-of-type {\n",
       "        vertical-align: middle;\n",
       "    }\n",
       "\n",
       "    .dataframe tbody tr th {\n",
       "        vertical-align: top;\n",
       "    }\n",
       "\n",
       "    .dataframe thead th {\n",
       "        text-align: right;\n",
       "    }\n",
       "</style>\n",
       "<table border=\"1\" class=\"dataframe\">\n",
       "  <thead>\n",
       "    <tr style=\"text-align: right;\">\n",
       "      <th></th>\n",
       "      <th>stationcode</th>\n",
       "      <th>methodname</th>\n",
       "      <th>analyte</th>\n",
       "      <th>unit</th>\n",
       "      <th>sampledate</th>\n",
       "      <th>result</th>\n",
       "      <th>result_count</th>\n",
       "      <th>group_std</th>\n",
       "      <th>group_mean</th>\n",
       "      <th>group_median</th>\n",
       "      <th>gt_median</th>\n",
       "      <th>gt_mean</th>\n",
       "    </tr>\n",
       "  </thead>\n",
       "  <tbody>\n",
       "    <tr>\n",
       "      <th>0</th>\n",
       "      <td>EH-010</td>\n",
       "      <td>Colilert-18</td>\n",
       "      <td>Coliform, Total</td>\n",
       "      <td>MPN/100 mL</td>\n",
       "      <td>2006-04-29</td>\n",
       "      <td>6488.0</td>\n",
       "      <td>16</td>\n",
       "      <td>2754.504235</td>\n",
       "      <td>2069.125</td>\n",
       "      <td>524.0</td>\n",
       "      <td>True</td>\n",
       "      <td>True</td>\n",
       "    </tr>\n",
       "    <tr>\n",
       "      <th>1</th>\n",
       "      <td>EH-010</td>\n",
       "      <td>Colilert-18</td>\n",
       "      <td>Coliform, Total</td>\n",
       "      <td>MPN/100 mL</td>\n",
       "      <td>2006-05-08</td>\n",
       "      <td>10.0</td>\n",
       "      <td>16</td>\n",
       "      <td>2754.504235</td>\n",
       "      <td>2069.125</td>\n",
       "      <td>524.0</td>\n",
       "      <td>False</td>\n",
       "      <td>False</td>\n",
       "    </tr>\n",
       "    <tr>\n",
       "      <th>2</th>\n",
       "      <td>EH-010</td>\n",
       "      <td>Colilert-18</td>\n",
       "      <td>Coliform, Total</td>\n",
       "      <td>MPN/100 mL</td>\n",
       "      <td>2006-05-15</td>\n",
       "      <td>771.0</td>\n",
       "      <td>16</td>\n",
       "      <td>2754.504235</td>\n",
       "      <td>2069.125</td>\n",
       "      <td>524.0</td>\n",
       "      <td>True</td>\n",
       "      <td>False</td>\n",
       "    </tr>\n",
       "    <tr>\n",
       "      <th>3</th>\n",
       "      <td>EH-010</td>\n",
       "      <td>Colilert-18</td>\n",
       "      <td>Coliform, Total</td>\n",
       "      <td>MPN/100 mL</td>\n",
       "      <td>2006-07-17</td>\n",
       "      <td>4884.0</td>\n",
       "      <td>16</td>\n",
       "      <td>2754.504235</td>\n",
       "      <td>2069.125</td>\n",
       "      <td>524.0</td>\n",
       "      <td>True</td>\n",
       "      <td>True</td>\n",
       "    </tr>\n",
       "    <tr>\n",
       "      <th>4</th>\n",
       "      <td>EH-010</td>\n",
       "      <td>Colilert-18</td>\n",
       "      <td>Coliform, Total</td>\n",
       "      <td>MPN/100 mL</td>\n",
       "      <td>2006-08-27</td>\n",
       "      <td>41.0</td>\n",
       "      <td>16</td>\n",
       "      <td>2754.504235</td>\n",
       "      <td>2069.125</td>\n",
       "      <td>524.0</td>\n",
       "      <td>False</td>\n",
       "      <td>False</td>\n",
       "    </tr>\n",
       "  </tbody>\n",
       "</table>\n",
       "</div>"
      ],
      "text/plain": [
       "  stationcode   methodname          analyte        unit sampledate  result  \\\n",
       "0      EH-010  Colilert-18  Coliform, Total  MPN/100 mL 2006-04-29  6488.0   \n",
       "1      EH-010  Colilert-18  Coliform, Total  MPN/100 mL 2006-05-08    10.0   \n",
       "2      EH-010  Colilert-18  Coliform, Total  MPN/100 mL 2006-05-15   771.0   \n",
       "3      EH-010  Colilert-18  Coliform, Total  MPN/100 mL 2006-07-17  4884.0   \n",
       "4      EH-010  Colilert-18  Coliform, Total  MPN/100 mL 2006-08-27    41.0   \n",
       "\n",
       "   result_count    group_std  group_mean  group_median  gt_median  gt_mean  \n",
       "0            16  2754.504235    2069.125         524.0       True     True  \n",
       "1            16  2754.504235    2069.125         524.0      False    False  \n",
       "2            16  2754.504235    2069.125         524.0       True    False  \n",
       "3            16  2754.504235    2069.125         524.0       True     True  \n",
       "4            16  2754.504235    2069.125         524.0      False    False  "
      ]
     },
     "execution_count": 4,
     "metadata": {},
     "output_type": "execute_result"
    }
   ],
   "source": [
    "_1 = df.set_index(['stationcode','methodname','analyte','unit']).join(dfc_gs).reset_index()\n",
    "\n",
    "# Mark the records that are in excess of the median and mean,\n",
    "_1['gt_median'] = _1.result > _1.group_median\n",
    "_1['gt_mean']   = _1.result > _1.group_mean\n",
    "\n",
    "# However, we still have an issue with there being multiple measurements per day/analyte/method/station. \n",
    "# The gt_mean and gt_median are now linked to the mean and median for the day/analyte/method/station, so let's just\n",
    "# consider that normalization enough and average the flags. Since they are binary, they will  convert to 0/1\n",
    "\n",
    "#_2 = _1.reset_index().set_index('sampledate').groupby(['stationcode','methodname','analyte','unit']).resample('1d').mean().reset_index()\n",
    "#dfc = _2.copy()\n",
    "dfc = _1\n",
    "\n",
    "dfc.loc[dfc['gt_median'].notnull(), 'gt_median'] = dfc['gt_median'] >= .5\n",
    "dfc.loc[dfc['gt_mean'].notnull(), 'gt_mean'] = dfc['gt_mean'] >= .5\n",
    "\n",
    "dfc.head()\n"
   ]
  },
  {
   "cell_type": "code",
   "execution_count": 5,
   "metadata": {},
   "outputs": [
    {
     "data": {
      "text/plain": [
       "False    136116\n",
       "True      66141\n",
       "Name: gt_median, dtype: int64"
      ]
     },
     "execution_count": 5,
     "metadata": {},
     "output_type": "execute_result"
    }
   ],
   "source": [
    "\n",
    "dfc.gt_median.value_counts(dropna=False)"
   ]
  },
  {
   "cell_type": "code",
   "execution_count": 6,
   "metadata": {},
   "outputs": [
    {
     "data": {
      "text/plain": [
       "0.2110631523260011"
      ]
     },
     "execution_count": 6,
     "metadata": {},
     "output_type": "execute_result"
    }
   ],
   "source": [
    "# Proportion of gt_mean and mt_median that are different. \n",
    "len(dfc[ dfc.gt_median.notnull() & dfc.gt_mean.notnull() &  (dfc.gt_median != dfc.gt_mean)])  / len(dfc)"
   ]
  },
  {
   "cell_type": "code",
   "execution_count": 7,
   "metadata": {},
   "outputs": [
    {
     "data": {
      "text/plain": [
       "0.3270146397899702"
      ]
     },
     "execution_count": 7,
     "metadata": {},
     "output_type": "execute_result"
    }
   ],
   "source": [
    "_ = dfc[dfc.gt_median.notnull()]\n",
    "len(_[_.gt_median]) / len(_)"
   ]
  },
  {
   "cell_type": "code",
   "execution_count": 8,
   "metadata": {},
   "outputs": [
    {
     "data": {
      "text/plain": [
       "0.11829504046831507"
      ]
     },
     "execution_count": 8,
     "metadata": {},
     "output_type": "execute_result"
    }
   ],
   "source": [
    "_ = dfc[dfc.gt_mean.notnull()]\n",
    "len(_[_.gt_mean>= 0.5]) / len(_)"
   ]
  },
  {
   "cell_type": "code",
   "execution_count": 9,
   "metadata": {},
   "outputs": [
    {
     "data": {
      "text/html": [
       "<div>\n",
       "<style scoped>\n",
       "    .dataframe tbody tr th:only-of-type {\n",
       "        vertical-align: middle;\n",
       "    }\n",
       "\n",
       "    .dataframe tbody tr th {\n",
       "        vertical-align: top;\n",
       "    }\n",
       "\n",
       "    .dataframe thead th {\n",
       "        text-align: right;\n",
       "    }\n",
       "</style>\n",
       "<table border=\"1\" class=\"dataframe\">\n",
       "  <thead>\n",
       "    <tr style=\"text-align: right;\">\n",
       "      <th></th>\n",
       "      <th>stationcode</th>\n",
       "      <th>methodname</th>\n",
       "      <th>analyte</th>\n",
       "      <th>unit</th>\n",
       "      <th>sampledate</th>\n",
       "      <th>result</th>\n",
       "      <th>result_count</th>\n",
       "      <th>group_std</th>\n",
       "      <th>group_mean</th>\n",
       "      <th>group_median</th>\n",
       "      <th>gt_median</th>\n",
       "      <th>gt_mean</th>\n",
       "    </tr>\n",
       "  </thead>\n",
       "  <tbody>\n",
       "    <tr>\n",
       "      <th>0</th>\n",
       "      <td>EH-010</td>\n",
       "      <td>Colilert-18</td>\n",
       "      <td>Coliform, Total</td>\n",
       "      <td>MPN/100 mL</td>\n",
       "      <td>2006-04-29</td>\n",
       "      <td>6488.0</td>\n",
       "      <td>16</td>\n",
       "      <td>2754.504235</td>\n",
       "      <td>2069.125</td>\n",
       "      <td>524.0</td>\n",
       "      <td>True</td>\n",
       "      <td>True</td>\n",
       "    </tr>\n",
       "    <tr>\n",
       "      <th>1</th>\n",
       "      <td>EH-010</td>\n",
       "      <td>Colilert-18</td>\n",
       "      <td>Coliform, Total</td>\n",
       "      <td>MPN/100 mL</td>\n",
       "      <td>2006-05-08</td>\n",
       "      <td>10.0</td>\n",
       "      <td>16</td>\n",
       "      <td>2754.504235</td>\n",
       "      <td>2069.125</td>\n",
       "      <td>524.0</td>\n",
       "      <td>False</td>\n",
       "      <td>False</td>\n",
       "    </tr>\n",
       "    <tr>\n",
       "      <th>2</th>\n",
       "      <td>EH-010</td>\n",
       "      <td>Colilert-18</td>\n",
       "      <td>Coliform, Total</td>\n",
       "      <td>MPN/100 mL</td>\n",
       "      <td>2006-05-15</td>\n",
       "      <td>771.0</td>\n",
       "      <td>16</td>\n",
       "      <td>2754.504235</td>\n",
       "      <td>2069.125</td>\n",
       "      <td>524.0</td>\n",
       "      <td>True</td>\n",
       "      <td>False</td>\n",
       "    </tr>\n",
       "    <tr>\n",
       "      <th>3</th>\n",
       "      <td>EH-010</td>\n",
       "      <td>Colilert-18</td>\n",
       "      <td>Coliform, Total</td>\n",
       "      <td>MPN/100 mL</td>\n",
       "      <td>2006-07-17</td>\n",
       "      <td>4884.0</td>\n",
       "      <td>16</td>\n",
       "      <td>2754.504235</td>\n",
       "      <td>2069.125</td>\n",
       "      <td>524.0</td>\n",
       "      <td>True</td>\n",
       "      <td>True</td>\n",
       "    </tr>\n",
       "    <tr>\n",
       "      <th>4</th>\n",
       "      <td>EH-010</td>\n",
       "      <td>Colilert-18</td>\n",
       "      <td>Coliform, Total</td>\n",
       "      <td>MPN/100 mL</td>\n",
       "      <td>2006-08-27</td>\n",
       "      <td>41.0</td>\n",
       "      <td>16</td>\n",
       "      <td>2754.504235</td>\n",
       "      <td>2069.125</td>\n",
       "      <td>524.0</td>\n",
       "      <td>False</td>\n",
       "      <td>False</td>\n",
       "    </tr>\n",
       "  </tbody>\n",
       "</table>\n",
       "</div>"
      ],
      "text/plain": [
       "  stationcode   methodname          analyte        unit sampledate  result  \\\n",
       "0      EH-010  Colilert-18  Coliform, Total  MPN/100 mL 2006-04-29  6488.0   \n",
       "1      EH-010  Colilert-18  Coliform, Total  MPN/100 mL 2006-05-08    10.0   \n",
       "2      EH-010  Colilert-18  Coliform, Total  MPN/100 mL 2006-05-15   771.0   \n",
       "3      EH-010  Colilert-18  Coliform, Total  MPN/100 mL 2006-07-17  4884.0   \n",
       "4      EH-010  Colilert-18  Coliform, Total  MPN/100 mL 2006-08-27    41.0   \n",
       "\n",
       "   result_count    group_std  group_mean  group_median  gt_median  gt_mean  \n",
       "0            16  2754.504235    2069.125         524.0       True     True  \n",
       "1            16  2754.504235    2069.125         524.0      False    False  \n",
       "2            16  2754.504235    2069.125         524.0       True    False  \n",
       "3            16  2754.504235    2069.125         524.0       True     True  \n",
       "4            16  2754.504235    2069.125         524.0      False    False  "
      ]
     },
     "execution_count": 9,
     "metadata": {},
     "output_type": "execute_result"
    }
   ],
   "source": [
    "dfc.head()"
   ]
  },
  {
   "cell_type": "markdown",
   "metadata": {},
   "source": [
    "# Merge in environmental data"
   ]
  },
  {
   "cell_type": "code",
   "execution_count": 10,
   "metadata": {},
   "outputs": [],
   "source": [
    "env_pkg =  mp.open_package('http://library.metatab.org/sandiegodata.org-water_quality-4.zip')"
   ]
  },
  {
   "cell_type": "code",
   "execution_count": 11,
   "metadata": {},
   "outputs": [
    {
     "data": {
      "text/html": [
       "<div>\n",
       "<style scoped>\n",
       "    .dataframe tbody tr th:only-of-type {\n",
       "        vertical-align: middle;\n",
       "    }\n",
       "\n",
       "    .dataframe tbody tr th {\n",
       "        vertical-align: top;\n",
       "    }\n",
       "\n",
       "    .dataframe thead th {\n",
       "        text-align: right;\n",
       "    }\n",
       "</style>\n",
       "<table border=\"1\" class=\"dataframe\">\n",
       "  <thead>\n",
       "    <tr style=\"text-align: right;\">\n",
       "      <th></th>\n",
       "      <th>discharge_rate</th>\n",
       "      <th>recent_total_discharge</th>\n",
       "      <th>recent_max_discharge</th>\n",
       "      <th>dailyprecip</th>\n",
       "      <th>recent_precip</th>\n",
       "      <th>wl_max</th>\n",
       "      <th>wl_min</th>\n",
       "    </tr>\n",
       "    <tr>\n",
       "      <th>date</th>\n",
       "      <th></th>\n",
       "      <th></th>\n",
       "      <th></th>\n",
       "      <th></th>\n",
       "      <th></th>\n",
       "      <th></th>\n",
       "      <th></th>\n",
       "    </tr>\n",
       "  </thead>\n",
       "  <tbody>\n",
       "    <tr>\n",
       "      <th>1988-01-01</th>\n",
       "      <td>22.0</td>\n",
       "      <td>22.0</td>\n",
       "      <td>22.0</td>\n",
       "      <td>NaN</td>\n",
       "      <td>NaN</td>\n",
       "      <td>NaN</td>\n",
       "      <td>NaN</td>\n",
       "    </tr>\n",
       "    <tr>\n",
       "      <th>1988-01-02</th>\n",
       "      <td>20.0</td>\n",
       "      <td>42.0</td>\n",
       "      <td>42.0</td>\n",
       "      <td>NaN</td>\n",
       "      <td>NaN</td>\n",
       "      <td>NaN</td>\n",
       "      <td>NaN</td>\n",
       "    </tr>\n",
       "    <tr>\n",
       "      <th>1988-01-03</th>\n",
       "      <td>18.0</td>\n",
       "      <td>60.0</td>\n",
       "      <td>60.0</td>\n",
       "      <td>NaN</td>\n",
       "      <td>NaN</td>\n",
       "      <td>NaN</td>\n",
       "      <td>NaN</td>\n",
       "    </tr>\n",
       "    <tr>\n",
       "      <th>1988-01-04</th>\n",
       "      <td>18.0</td>\n",
       "      <td>56.0</td>\n",
       "      <td>60.0</td>\n",
       "      <td>NaN</td>\n",
       "      <td>NaN</td>\n",
       "      <td>NaN</td>\n",
       "      <td>NaN</td>\n",
       "    </tr>\n",
       "    <tr>\n",
       "      <th>1988-01-05</th>\n",
       "      <td>21.0</td>\n",
       "      <td>57.0</td>\n",
       "      <td>60.0</td>\n",
       "      <td>NaN</td>\n",
       "      <td>NaN</td>\n",
       "      <td>NaN</td>\n",
       "      <td>NaN</td>\n",
       "    </tr>\n",
       "  </tbody>\n",
       "</table>\n",
       "</div>"
      ],
      "text/plain": [
       "            discharge_rate  recent_total_discharge  recent_max_discharge  \\\n",
       "date                                                                       \n",
       "1988-01-01            22.0                    22.0                  22.0   \n",
       "1988-01-02            20.0                    42.0                  42.0   \n",
       "1988-01-03            18.0                    60.0                  60.0   \n",
       "1988-01-04            18.0                    56.0                  60.0   \n",
       "1988-01-05            21.0                    57.0                  60.0   \n",
       "\n",
       "            dailyprecip  recent_precip  wl_max  wl_min  \n",
       "date                                                    \n",
       "1988-01-01          NaN            NaN     NaN     NaN  \n",
       "1988-01-02          NaN            NaN     NaN     NaN  \n",
       "1988-01-03          NaN            NaN     NaN     NaN  \n",
       "1988-01-04          NaN            NaN     NaN     NaN  \n",
       "1988-01-05          NaN            NaN     NaN     NaN  "
      ]
     },
     "execution_count": 11,
     "metadata": {},
     "output_type": "execute_result"
    }
   ],
   "source": [
    "trr = env_pkg.resource('tides_river_rain').read_csv(parse_dates=True).set_index('date')\n",
    "trr.head()"
   ]
  },
  {
   "cell_type": "code",
   "execution_count": 12,
   "metadata": {},
   "outputs": [
    {
     "data": {
      "text/plain": [
       "<matplotlib.axes._subplots.AxesSubplot at 0x11b4c8240>"
      ]
     },
     "execution_count": 12,
     "metadata": {},
     "output_type": "execute_result"
    },
    {
     "data": {
      "image/png": "[encoded data removed]",
      "text/plain": [
       "<Figure size 432x288 with 1 Axes>"
      ]
     },
     "metadata": {},
     "output_type": "display_data"
    }
   ],
   "source": [
    "trr.loc['2007':'2008'].recent_precip.plot()"
   ]
  },
  {
   "cell_type": "code",
   "execution_count": 13,
   "metadata": {},
   "outputs": [
    {
     "data": {
      "text/html": [
       "<div>\n",
       "<style scoped>\n",
       "    .dataframe tbody tr th:only-of-type {\n",
       "        vertical-align: middle;\n",
       "    }\n",
       "\n",
       "    .dataframe tbody tr th {\n",
       "        vertical-align: top;\n",
       "    }\n",
       "\n",
       "    .dataframe thead th {\n",
       "        text-align: right;\n",
       "    }\n",
       "</style>\n",
       "<table border=\"1\" class=\"dataframe\">\n",
       "  <thead>\n",
       "    <tr style=\"text-align: right;\">\n",
       "      <th></th>\n",
       "      <th>stationcode</th>\n",
       "      <th>methodname</th>\n",
       "      <th>analyte</th>\n",
       "      <th>unit</th>\n",
       "      <th>result</th>\n",
       "      <th>result_count</th>\n",
       "      <th>group_std</th>\n",
       "      <th>group_mean</th>\n",
       "      <th>group_median</th>\n",
       "      <th>gt_median</th>\n",
       "      <th>gt_mean</th>\n",
       "      <th>discharge_rate</th>\n",
       "      <th>recent_total_discharge</th>\n",
       "      <th>recent_max_discharge</th>\n",
       "      <th>dailyprecip</th>\n",
       "      <th>recent_precip</th>\n",
       "      <th>wl_max</th>\n",
       "      <th>wl_min</th>\n",
       "      <th>high_flow</th>\n",
       "    </tr>\n",
       "  </thead>\n",
       "  <tbody>\n",
       "    <tr>\n",
       "      <th>1998-07-21</th>\n",
       "      <td>SE-010</td>\n",
       "      <td>MTF</td>\n",
       "      <td>Coliform, Fecal</td>\n",
       "      <td>MPN/100 mL</td>\n",
       "      <td>4.0</td>\n",
       "      <td>527</td>\n",
       "      <td>225.561709</td>\n",
       "      <td>51.220114</td>\n",
       "      <td>4.0</td>\n",
       "      <td>False</td>\n",
       "      <td>False</td>\n",
       "      <td>8.8</td>\n",
       "      <td>27.0</td>\n",
       "      <td>27.4</td>\n",
       "      <td>NaN</td>\n",
       "      <td>NaN</td>\n",
       "      <td>NaN</td>\n",
       "      <td>NaN</td>\n",
       "      <td>1</td>\n",
       "    </tr>\n",
       "    <tr>\n",
       "      <th>1998-07-21</th>\n",
       "      <td>SE-010</td>\n",
       "      <td>MTF</td>\n",
       "      <td>Coliform, Total</td>\n",
       "      <td>MPN/100 mL</td>\n",
       "      <td>4.0</td>\n",
       "      <td>530</td>\n",
       "      <td>309.086717</td>\n",
       "      <td>84.126415</td>\n",
       "      <td>8.0</td>\n",
       "      <td>False</td>\n",
       "      <td>False</td>\n",
       "      <td>8.8</td>\n",
       "      <td>27.0</td>\n",
       "      <td>27.4</td>\n",
       "      <td>NaN</td>\n",
       "      <td>NaN</td>\n",
       "      <td>NaN</td>\n",
       "      <td>NaN</td>\n",
       "      <td>1</td>\n",
       "    </tr>\n",
       "    <tr>\n",
       "      <th>1998-07-21</th>\n",
       "      <td>SE-010</td>\n",
       "      <td>MTF</td>\n",
       "      <td>Enterococcus</td>\n",
       "      <td>MPN/100 mL</td>\n",
       "      <td>2.0</td>\n",
       "      <td>488</td>\n",
       "      <td>148.631518</td>\n",
       "      <td>24.676230</td>\n",
       "      <td>2.0</td>\n",
       "      <td>False</td>\n",
       "      <td>False</td>\n",
       "      <td>8.8</td>\n",
       "      <td>27.0</td>\n",
       "      <td>27.4</td>\n",
       "      <td>NaN</td>\n",
       "      <td>NaN</td>\n",
       "      <td>NaN</td>\n",
       "      <td>NaN</td>\n",
       "      <td>1</td>\n",
       "    </tr>\n",
       "    <tr>\n",
       "      <th>1998-07-21</th>\n",
       "      <td>SE-020</td>\n",
       "      <td>MTF</td>\n",
       "      <td>Coliform, Fecal</td>\n",
       "      <td>MPN/100 mL</td>\n",
       "      <td>23.0</td>\n",
       "      <td>477</td>\n",
       "      <td>128.262880</td>\n",
       "      <td>20.035639</td>\n",
       "      <td>2.0</td>\n",
       "      <td>True</td>\n",
       "      <td>True</td>\n",
       "      <td>8.8</td>\n",
       "      <td>27.0</td>\n",
       "      <td>27.4</td>\n",
       "      <td>NaN</td>\n",
       "      <td>NaN</td>\n",
       "      <td>NaN</td>\n",
       "      <td>NaN</td>\n",
       "      <td>1</td>\n",
       "    </tr>\n",
       "    <tr>\n",
       "      <th>1998-07-21</th>\n",
       "      <td>SE-020</td>\n",
       "      <td>MTF</td>\n",
       "      <td>Coliform, Total</td>\n",
       "      <td>MPN/100 mL</td>\n",
       "      <td>23.0</td>\n",
       "      <td>477</td>\n",
       "      <td>263.711243</td>\n",
       "      <td>35.614256</td>\n",
       "      <td>4.0</td>\n",
       "      <td>True</td>\n",
       "      <td>False</td>\n",
       "      <td>8.8</td>\n",
       "      <td>27.0</td>\n",
       "      <td>27.4</td>\n",
       "      <td>NaN</td>\n",
       "      <td>NaN</td>\n",
       "      <td>NaN</td>\n",
       "      <td>NaN</td>\n",
       "      <td>1</td>\n",
       "    </tr>\n",
       "  </tbody>\n",
       "</table>\n",
       "</div>"
      ],
      "text/plain": [
       "           stationcode methodname          analyte        unit  result  \\\n",
       "1998-07-21      SE-010        MTF  Coliform, Fecal  MPN/100 mL     4.0   \n",
       "1998-07-21      SE-010        MTF  Coliform, Total  MPN/100 mL     4.0   \n",
       "1998-07-21      SE-010        MTF     Enterococcus  MPN/100 mL     2.0   \n",
       "1998-07-21      SE-020        MTF  Coliform, Fecal  MPN/100 mL    23.0   \n",
       "1998-07-21      SE-020        MTF  Coliform, Total  MPN/100 mL    23.0   \n",
       "\n",
       "            result_count   group_std  group_mean  group_median  gt_median  \\\n",
       "1998-07-21           527  225.561709   51.220114           4.0      False   \n",
       "1998-07-21           530  309.086717   84.126415           8.0      False   \n",
       "1998-07-21           488  148.631518   24.676230           2.0      False   \n",
       "1998-07-21           477  128.262880   20.035639           2.0       True   \n",
       "1998-07-21           477  263.711243   35.614256           4.0       True   \n",
       "\n",
       "            gt_mean  discharge_rate  recent_total_discharge  \\\n",
       "1998-07-21    False             8.8                    27.0   \n",
       "1998-07-21    False             8.8                    27.0   \n",
       "1998-07-21    False             8.8                    27.0   \n",
       "1998-07-21     True             8.8                    27.0   \n",
       "1998-07-21    False             8.8                    27.0   \n",
       "\n",
       "            recent_max_discharge  dailyprecip  recent_precip  wl_max  wl_min  \\\n",
       "1998-07-21                  27.4          NaN            NaN     NaN     NaN   \n",
       "1998-07-21                  27.4          NaN            NaN     NaN     NaN   \n",
       "1998-07-21                  27.4          NaN            NaN     NaN     NaN   \n",
       "1998-07-21                  27.4          NaN            NaN     NaN     NaN   \n",
       "1998-07-21                  27.4          NaN            NaN     NaN     NaN   \n",
       "\n",
       "            high_flow  \n",
       "1998-07-21          1  \n",
       "1998-07-21          1  \n",
       "1998-07-21          1  \n",
       "1998-07-21          1  \n",
       "1998-07-21          1  "
      ]
     },
     "execution_count": 13,
     "metadata": {},
     "output_type": "execute_result"
    }
   ],
   "source": [
    "dfc_env = dfc.set_index('sampledate').join(trr)\n",
    "dfc_env['high_flow'] =  (dfc_env.recent_total_discharge > dfc_env.recent_total_discharge.median()).astype(int)\n",
    "\n",
    "\n",
    "dfc_env.head()"
   ]
  },
  {
   "cell_type": "code",
   "execution_count": 14,
   "metadata": {},
   "outputs": [
    {
     "data": {
      "image/png": "[encoded data removed]",
      "text/plain": [
       "<Figure size 1080x432 with 1 Axes>"
      ]
     },
     "metadata": {},
     "output_type": "display_data"
    }
   ],
   "source": [
    "fig, ax = plt.subplots(figsize=(15,.5*len(dfc.columns)))\n",
    "sns.heatmap(dfc_env.sample(10000).isnull().T,cbar=False,xticklabels=False,cmap = 'viridis', ax=ax );"
   ]
  },
  {
   "cell_type": "code",
   "execution_count": 15,
   "metadata": {},
   "outputs": [
    {
     "data": {
      "text/plain": [
       "8440"
      ]
     },
     "execution_count": 15,
     "metadata": {},
     "output_type": "execute_result"
    }
   ],
   "source": [
    "sum(dfc_env.recent_precip > 0.0)"
   ]
  },
  {
   "cell_type": "code",
   "execution_count": 16,
   "metadata": {},
   "outputs": [
    {
     "data": {
      "text/plain": [
       "gt_mean\n",
       "False    13.473382\n",
       "True     83.617916\n",
       "Name: discharge_rate, dtype: float64"
      ]
     },
     "execution_count": 16,
     "metadata": {},
     "output_type": "execute_result"
    }
   ],
   "source": [
    "dfc_env.groupby('gt_mean').mean().discharge_rate"
   ]
  },
  {
   "cell_type": "code",
   "execution_count": 17,
   "metadata": {},
   "outputs": [
    {
     "data": {
      "text/html": [
       "<div>\n",
       "<style scoped>\n",
       "    .dataframe tbody tr th:only-of-type {\n",
       "        vertical-align: middle;\n",
       "    }\n",
       "\n",
       "    .dataframe tbody tr th {\n",
       "        vertical-align: top;\n",
       "    }\n",
       "\n",
       "    .dataframe thead th {\n",
       "        text-align: right;\n",
       "    }\n",
       "</style>\n",
       "<table border=\"1\" class=\"dataframe\">\n",
       "  <thead>\n",
       "    <tr style=\"text-align: right;\">\n",
       "      <th></th>\n",
       "      <th>mean</th>\n",
       "      <th>std</th>\n",
       "      <th>median</th>\n",
       "    </tr>\n",
       "    <tr>\n",
       "      <th>gt_mean</th>\n",
       "      <th></th>\n",
       "      <th></th>\n",
       "      <th></th>\n",
       "    </tr>\n",
       "  </thead>\n",
       "  <tbody>\n",
       "    <tr>\n",
       "      <th>False</th>\n",
       "      <td>13.473382</td>\n",
       "      <td>48.410475</td>\n",
       "      <td>3.42</td>\n",
       "    </tr>\n",
       "    <tr>\n",
       "      <th>True</th>\n",
       "      <td>83.617916</td>\n",
       "      <td>295.527887</td>\n",
       "      <td>7.05</td>\n",
       "    </tr>\n",
       "  </tbody>\n",
       "</table>\n",
       "</div>"
      ],
      "text/plain": [
       "              mean         std  median\n",
       "gt_mean                               \n",
       "False    13.473382   48.410475    3.42\n",
       "True     83.617916  295.527887    7.05"
      ]
     },
     "execution_count": 17,
     "metadata": {},
     "output_type": "execute_result"
    }
   ],
   "source": [
    "dfc_env.groupby('gt_mean').discharge_rate.agg(['mean','std','median'])"
   ]
  },
  {
   "cell_type": "code",
   "execution_count": 18,
   "metadata": {},
   "outputs": [
    {
     "data": {
      "text/plain": [
       "gt_median\n",
       "False    10.273435\n",
       "True     45.433016\n",
       "Name: discharge_rate, dtype: float64"
      ]
     },
     "execution_count": 18,
     "metadata": {},
     "output_type": "execute_result"
    }
   ],
   "source": [
    "dfc_env.groupby('gt_median').mean().discharge_rate"
   ]
  },
  {
   "cell_type": "code",
   "execution_count": 19,
   "metadata": {},
   "outputs": [
    {
     "data": {
      "text/plain": [
       "gt_mean\n",
       "False    0.034588\n",
       "True     0.207037\n",
       "Name: recent_precip, dtype: float64"
      ]
     },
     "execution_count": 19,
     "metadata": {},
     "output_type": "execute_result"
    }
   ],
   "source": [
    "dfc_env.groupby('gt_mean').mean().recent_precip"
   ]
  },
  {
   "cell_type": "code",
   "execution_count": 20,
   "metadata": {},
   "outputs": [
    {
     "data": {
      "text/plain": [
       "<matplotlib.axes._subplots.AxesSubplot at 0x11ba04278>"
      ]
     },
     "execution_count": 20,
     "metadata": {},
     "output_type": "execute_result"
    },
    {
     "data": {
      "image/png": "[encoded data removed]",
      "text/plain": [
       "<Figure size 432x288 with 1 Axes>"
      ]
     },
     "metadata": {},
     "output_type": "display_data"
    }
   ],
   "source": [
    "pd.crosstab(dfc_env.gt_median, dfc_env.recent_precip > 0.01 ).plot(kind='bar')"
   ]
  },
  {
   "cell_type": "code",
   "execution_count": 21,
   "metadata": {},
   "outputs": [
    {
     "name": "stdout",
     "output_type": "stream",
     "text": [
      "Optimization terminated successfully.\n",
      "         Current function value: 0.630014\n",
      "         Iterations 4\n",
      "                           Logit Regression Results                           \n",
      "==============================================================================\n",
      "Dep. Variable:              gt_median   No. Observations:               202257\n",
      "Model:                          Logit   Df Residuals:                   202255\n",
      "Method:                           MLE   Df Model:                            1\n",
      "Date:                Mon, 06 Aug 2018   Pseudo R-squ.:                0.003213\n",
      "Time:                        16:25:27   Log-Likelihood:            -1.2742e+05\n",
      "converged:                       True   LL-Null:                   -1.2784e+05\n",
      "                                        LLR p-value:                1.175e-180\n",
      "==============================================================================\n",
      "                 coef    std err          z      P>|z|      [0.025      0.975]\n",
      "------------------------------------------------------------------------------\n",
      "X              0.6481      0.022     29.015      0.000       0.604       0.692\n",
      "const         -0.7510      0.005   -154.307      0.000      -0.761      -0.741\n",
      "==============================================================================\n",
      "           2.5%     97.5%        OR\n",
      "X      1.829967  1.997411  1.911857\n",
      "const  0.467410  0.476413  0.471890\n"
     ]
    }
   ],
   "source": [
    "def logit(y,X):\n",
    "    import statsmodels.api as sm\n",
    "\n",
    "    X_ = pd.DataFrame()\n",
    "   \n",
    "    X_['X'] = X\n",
    "    X_['const'] = 1\n",
    "\n",
    "    logit_model=sm.Logit(y,X_)\n",
    "    result=logit_model.fit()\n",
    "    print(result.summary())\n",
    "\n",
    "    # Odds ratio and conf interval\n",
    "    params = result.params\n",
    "    conf = result.conf_int()\n",
    "    conf['OR'] = params\n",
    "    conf.columns = ['2.5%', '97.5%', 'OR']\n",
    "    print(np.exp(conf))\n",
    "    \n",
    "logit(\n",
    "    y = dfc_env.gt_median.astype(int), \n",
    "    X = (dfc_env.recent_precip.fillna(0) > 0).astype(int)\n",
    ")"
   ]
  },
  {
   "cell_type": "markdown",
   "metadata": {},
   "source": [
    "That's an oad ratio of nearly 1:2, so days with non-zero recent precipitation are about twice as likely to have a bacteria county above the median"
   ]
  },
  {
   "cell_type": "code",
   "execution_count": 22,
   "metadata": {},
   "outputs": [
    {
     "name": "stdout",
     "output_type": "stream",
     "text": [
      "Optimization terminated successfully.\n",
      "         Current function value: 0.628335\n",
      "         Iterations 6\n",
      "                           Logit Regression Results                           \n",
      "==============================================================================\n",
      "Dep. Variable:              gt_median   No. Observations:               202257\n",
      "Model:                          Logit   Df Residuals:                   202255\n",
      "Method:                           MLE   Df Model:                            1\n",
      "Date:                Mon, 06 Aug 2018   Pseudo R-squ.:                0.005869\n",
      "Time:                        16:25:28   Log-Likelihood:            -1.2709e+05\n",
      "converged:                       True   LL-Null:                   -1.2784e+05\n",
      "                                        LLR p-value:                     0.000\n",
      "==============================================================================\n",
      "                 coef    std err          z      P>|z|      [0.025      0.975]\n",
      "------------------------------------------------------------------------------\n",
      "X              1.7655      0.054     32.969      0.000       1.661       1.870\n",
      "const         -0.7462      0.005   -155.477      0.000      -0.756      -0.737\n",
      "==============================================================================\n",
      "           2.5%     97.5%        OR\n",
      "X      5.262089  6.491156  5.844402\n",
      "const  0.469728  0.478649  0.474168\n"
     ]
    }
   ],
   "source": [
    "logit(\n",
    "    y = dfc_env.gt_median.astype(int), \n",
    "    X = dfc_env.recent_precip.fillna(0)\n",
    ")\n"
   ]
  },
  {
   "cell_type": "markdown",
   "metadata": {},
   "source": [
    "I think this means that a 1 unit ( 1 inch ) increase in the recent precipitation increases the odds of above median bacteria counts by a factor of 6. "
   ]
  },
  {
   "cell_type": "code",
   "execution_count": 23,
   "metadata": {},
   "outputs": [
    {
     "name": "stdout",
     "output_type": "stream",
     "text": [
      "Optimization terminated successfully.\n",
      "         Current function value: 0.628335\n",
      "         Iterations 6\n",
      "                           Logit Regression Results                           \n",
      "==============================================================================\n",
      "Dep. Variable:              gt_median   No. Observations:               202257\n",
      "Model:                          Logit   Df Residuals:                   202255\n",
      "Method:                           MLE   Df Model:                            1\n",
      "Date:                Mon, 06 Aug 2018   Pseudo R-squ.:                0.005869\n",
      "Time:                        16:25:30   Log-Likelihood:            -1.2709e+05\n",
      "converged:                       True   LL-Null:                   -1.2784e+05\n",
      "                                        LLR p-value:                     0.000\n",
      "==============================================================================\n",
      "                 coef    std err          z      P>|z|      [0.025      0.975]\n",
      "------------------------------------------------------------------------------\n",
      "X              1.7655      0.054     32.969      0.000       1.661       1.870\n",
      "const         -0.7462      0.005   -155.477      0.000      -0.756      -0.737\n",
      "==============================================================================\n",
      "           2.5%     97.5%        OR\n",
      "X      5.262089  6.491156  5.844402\n",
      "const  0.469728  0.478649  0.474168\n"
     ]
    }
   ],
   "source": [
    "logit(\n",
    "    y = dfc_env.gt_median.astype(int), \n",
    "    X = dfc_env.recent_precip.fillna(0)\n",
    ")"
   ]
  },
  {
   "cell_type": "code",
   "execution_count": 24,
   "metadata": {},
   "outputs": [
    {
     "name": "stdout",
     "output_type": "stream",
     "text": [
      "Optimization terminated successfully.\n",
      "         Current function value: 0.579082\n",
      "         Iterations 7\n",
      "                           Logit Regression Results                           \n",
      "==============================================================================\n",
      "Dep. Variable:                      y   No. Observations:                52202\n",
      "Model:                          Logit   Df Residuals:                    52200\n",
      "Method:                           MLE   Df Model:                            1\n",
      "Date:                Mon, 06 Aug 2018   Pseudo R-squ.:                0.009144\n",
      "Time:                        16:25:31   Log-Likelihood:                -30229.\n",
      "converged:                       True   LL-Null:                       -30508.\n",
      "                                        LLR p-value:                2.379e-123\n",
      "==============================================================================\n",
      "                 coef    std err          z      P>|z|      [0.025      0.975]\n",
      "------------------------------------------------------------------------------\n",
      "X              3.5833      0.232     15.434      0.000       3.128       4.038\n",
      "const         -1.0069      0.010   -101.568      0.000      -1.026      -0.987\n",
      "==============================================================================\n",
      "            2.5%      97.5%         OR\n",
      "X      22.834484  56.732185  35.992363\n",
      "const   0.358325   0.372524   0.365355\n"
     ]
    }
   ],
   "source": [
    "_1 = pd.DataFrame()\n",
    "_1['y'] = dfc_env.gt_median.astype(int)\n",
    "_1['X'] = dfc_env.recent_precip.apply(lambda x: 1 if x > 1.5 else 0 if x < .5 else np.nan)\n",
    "_2 = _1.dropna()\n",
    "\n",
    "logit(\n",
    "    y = _2['y'],\n",
    "    X = _2['X']\n",
    ")\n",
    "\n"
   ]
  },
  {
   "cell_type": "markdown",
   "metadata": {},
   "source": [
    "I think this means that a greater than median reading is 36 times more likely with a recent rainfall of 1.5 inches or greater than with .5 inch or less. "
   ]
  }
 ],
 "metadata": {
  "kernelspec": {
   "display_name": "Python 3",
   "language": "python",
   "name": "python3"
  },
  "language_info": {
   "codemirror_mode": {
    "name": "ipython",
    "version": 3
   },
   "file_extension": ".py",
   "mimetype": "text/x-python",
   "name": "python",
   "nbconvert_exporter": "python",
   "pygments_lexer": "ipython3",
   "version": "3.6.5"
  }
 },
 "nbformat": 4,
 "nbformat_minor": 2
}
