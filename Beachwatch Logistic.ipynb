{
 "cells": [
  {
   "cell_type": "code",
   "execution_count": 1,
   "metadata": {},
   "outputs": [],
   "source": [
    "import matplotlib.pyplot as plt \n",
    "import metapack as mp\n",
    "import pandas as pd\n",
    "import numpy as np\n",
    "import seaborn as sns\n",
    "import xarray as xr\n",
    "%matplotlib inline"
   ]
  },
  {
   "cell_type": "code",
   "execution_count": 2,
   "metadata": {},
   "outputs": [],
   "source": [
    "pkg = mp.open_package('http://library.metatab.org/ceden.waterboards.ca.gov-beachwatch-sandiego-2.zip')\n",
    "\n",
    "pkg\n",
    "\n",
    "df = pkg.resource('beachwatch-sd').read_csv(parse_dates=True)\n",
    "\n",
    "# It looks like the prefix of the station code groups stations, maybe into watersheds. \n",
    "df['stationgroup'] = df.stationcode.str[:2]\n",
    "\n",
    "df = df[['stationcode','sampledate','methodname','unit','analyte','result']]\n"
   ]
  },
  {
   "cell_type": "code",
   "execution_count": 3,
   "metadata": {},
   "outputs": [
    {
     "data": {
      "text/html": [
       "<div>\n",
       "<style scoped>\n",
       "    .dataframe tbody tr th:only-of-type {\n",
       "        vertical-align: middle;\n",
       "    }\n",
       "\n",
       "    .dataframe tbody tr th {\n",
       "        vertical-align: top;\n",
       "    }\n",
       "\n",
       "    .dataframe thead th {\n",
       "        text-align: right;\n",
       "    }\n",
       "</style>\n",
       "<table border=\"1\" class=\"dataframe\">\n",
       "  <thead>\n",
       "    <tr style=\"text-align: right;\">\n",
       "      <th></th>\n",
       "      <th></th>\n",
       "      <th></th>\n",
       "      <th></th>\n",
       "      <th>result_count</th>\n",
       "      <th>group_std</th>\n",
       "      <th>group_mean</th>\n",
       "      <th>group_median</th>\n",
       "    </tr>\n",
       "    <tr>\n",
       "      <th>stationcode</th>\n",
       "      <th>methodname</th>\n",
       "      <th>analyte</th>\n",
       "      <th>unit</th>\n",
       "      <th></th>\n",
       "      <th></th>\n",
       "      <th></th>\n",
       "      <th></th>\n",
       "    </tr>\n",
       "  </thead>\n",
       "  <tbody>\n",
       "    <tr>\n",
       "      <th rowspan=\"5\" valign=\"top\">EH-010</th>\n",
       "      <th rowspan=\"2\" valign=\"top\">Colilert-18</th>\n",
       "      <th>Coliform, Total</th>\n",
       "      <th>MPN/100 mL</th>\n",
       "      <td>16</td>\n",
       "      <td>2754.504235</td>\n",
       "      <td>2069.125000</td>\n",
       "      <td>524.0</td>\n",
       "    </tr>\n",
       "    <tr>\n",
       "      <th>E. coli</th>\n",
       "      <th>MPN/100 mL</th>\n",
       "      <td>16</td>\n",
       "      <td>414.620791</td>\n",
       "      <td>190.500000</td>\n",
       "      <td>20.0</td>\n",
       "    </tr>\n",
       "    <tr>\n",
       "      <th rowspan=\"2\" valign=\"top\">Enterolert</th>\n",
       "      <th rowspan=\"2\" valign=\"top\">Enterococcus</th>\n",
       "      <th>MPN/100 mL</th>\n",
       "      <td>389</td>\n",
       "      <td>426.067900</td>\n",
       "      <td>151.406170</td>\n",
       "      <td>10.0</td>\n",
       "    </tr>\n",
       "    <tr>\n",
       "      <th>cfu/100mL</th>\n",
       "      <td>9</td>\n",
       "      <td>681.020191</td>\n",
       "      <td>320.333333</td>\n",
       "      <td>10.0</td>\n",
       "    </tr>\n",
       "    <tr>\n",
       "      <th>MTF</th>\n",
       "      <th>Coliform, Fecal</th>\n",
       "      <th>MPN/100 mL</th>\n",
       "      <td>213</td>\n",
       "      <td>1647.469843</td>\n",
       "      <td>376.478873</td>\n",
       "      <td>20.0</td>\n",
       "    </tr>\n",
       "  </tbody>\n",
       "</table>\n",
       "</div>"
      ],
      "text/plain": [
       "                                                    result_count    group_std  \\\n",
       "stationcode methodname  analyte         unit                                    \n",
       "EH-010      Colilert-18 Coliform, Total MPN/100 mL            16  2754.504235   \n",
       "                        E. coli         MPN/100 mL            16   414.620791   \n",
       "            Enterolert  Enterococcus    MPN/100 mL           389   426.067900   \n",
       "                                        cfu/100mL              9   681.020191   \n",
       "            MTF         Coliform, Fecal MPN/100 mL           213  1647.469843   \n",
       "\n",
       "                                                     group_mean  group_median  \n",
       "stationcode methodname  analyte         unit                                   \n",
       "EH-010      Colilert-18 Coliform, Total MPN/100 mL  2069.125000         524.0  \n",
       "                        E. coli         MPN/100 mL   190.500000          20.0  \n",
       "            Enterolert  Enterococcus    MPN/100 mL   151.406170          10.0  \n",
       "                                        cfu/100mL    320.333333          10.0  \n",
       "            MTF         Coliform, Fecal MPN/100 mL   376.478873          20.0  "
      ]
     },
     "execution_count": 3,
     "metadata": {},
     "output_type": "execute_result"
    }
   ],
   "source": [
    "# Group stats\n",
    "\n",
    "dfc_gs = df[['stationcode','sampledate','methodname','analyte','unit', 'result']]\\\n",
    "         .groupby(['stationcode','methodname','analyte','unit']).agg({'result':['count','std','mean','median']})\n",
    "dfc_gs.columns = ['result_count', 'group_std', 'group_mean', 'group_median']\n",
    "#dfm.reset_index(inplace=True)\n",
    "dfc_gs.head()"
   ]
  },
  {
   "cell_type": "code",
   "execution_count": 4,
   "metadata": {},
   "outputs": [
    {
     "data": {
      "text/html": [
       "<div>\n",
       "<style scoped>\n",
       "    .dataframe tbody tr th:only-of-type {\n",
       "        vertical-align: middle;\n",
       "    }\n",
       "\n",
       "    .dataframe tbody tr th {\n",
       "        vertical-align: top;\n",
       "    }\n",
       "\n",
       "    .dataframe thead th {\n",
       "        text-align: right;\n",
       "    }\n",
       "</style>\n",
       "<table border=\"1\" class=\"dataframe\">\n",
       "  <thead>\n",
       "    <tr style=\"text-align: right;\">\n",
       "      <th></th>\n",
       "      <th>stationcode</th>\n",
       "      <th>methodname</th>\n",
       "      <th>analyte</th>\n",
       "      <th>unit</th>\n",
       "      <th>sampledate</th>\n",
       "      <th>index</th>\n",
       "      <th>result</th>\n",
       "      <th>result_count</th>\n",
       "      <th>group_std</th>\n",
       "      <th>group_mean</th>\n",
       "      <th>group_median</th>\n",
       "      <th>gt_median</th>\n",
       "      <th>gt_mean</th>\n",
       "    </tr>\n",
       "  </thead>\n",
       "  <tbody>\n",
       "    <tr>\n",
       "      <th>0</th>\n",
       "      <td>EH-010</td>\n",
       "      <td>Colilert-18</td>\n",
       "      <td>Coliform, Total</td>\n",
       "      <td>MPN/100 mL</td>\n",
       "      <td>2005-09-16</td>\n",
       "      <td>14.0</td>\n",
       "      <td>86.0</td>\n",
       "      <td>16.0</td>\n",
       "      <td>2754.504235</td>\n",
       "      <td>2069.125</td>\n",
       "      <td>524.0</td>\n",
       "      <td>0.0</td>\n",
       "      <td>0.0</td>\n",
       "    </tr>\n",
       "    <tr>\n",
       "      <th>1</th>\n",
       "      <td>EH-010</td>\n",
       "      <td>Colilert-18</td>\n",
       "      <td>Coliform, Total</td>\n",
       "      <td>MPN/100 mL</td>\n",
       "      <td>2005-09-17</td>\n",
       "      <td>NaN</td>\n",
       "      <td>NaN</td>\n",
       "      <td>NaN</td>\n",
       "      <td>NaN</td>\n",
       "      <td>NaN</td>\n",
       "      <td>NaN</td>\n",
       "      <td>NaN</td>\n",
       "      <td>NaN</td>\n",
       "    </tr>\n",
       "    <tr>\n",
       "      <th>2</th>\n",
       "      <td>EH-010</td>\n",
       "      <td>Colilert-18</td>\n",
       "      <td>Coliform, Total</td>\n",
       "      <td>MPN/100 mL</td>\n",
       "      <td>2005-09-18</td>\n",
       "      <td>NaN</td>\n",
       "      <td>NaN</td>\n",
       "      <td>NaN</td>\n",
       "      <td>NaN</td>\n",
       "      <td>NaN</td>\n",
       "      <td>NaN</td>\n",
       "      <td>NaN</td>\n",
       "      <td>NaN</td>\n",
       "    </tr>\n",
       "    <tr>\n",
       "      <th>3</th>\n",
       "      <td>EH-010</td>\n",
       "      <td>Colilert-18</td>\n",
       "      <td>Coliform, Total</td>\n",
       "      <td>MPN/100 mL</td>\n",
       "      <td>2005-09-19</td>\n",
       "      <td>NaN</td>\n",
       "      <td>NaN</td>\n",
       "      <td>NaN</td>\n",
       "      <td>NaN</td>\n",
       "      <td>NaN</td>\n",
       "      <td>NaN</td>\n",
       "      <td>NaN</td>\n",
       "      <td>NaN</td>\n",
       "    </tr>\n",
       "    <tr>\n",
       "      <th>4</th>\n",
       "      <td>EH-010</td>\n",
       "      <td>Colilert-18</td>\n",
       "      <td>Coliform, Total</td>\n",
       "      <td>MPN/100 mL</td>\n",
       "      <td>2005-09-20</td>\n",
       "      <td>NaN</td>\n",
       "      <td>NaN</td>\n",
       "      <td>NaN</td>\n",
       "      <td>NaN</td>\n",
       "      <td>NaN</td>\n",
       "      <td>NaN</td>\n",
       "      <td>NaN</td>\n",
       "      <td>NaN</td>\n",
       "    </tr>\n",
       "  </tbody>\n",
       "</table>\n",
       "</div>"
      ],
      "text/plain": [
       "  stationcode   methodname          analyte        unit sampledate  index  \\\n",
       "0      EH-010  Colilert-18  Coliform, Total  MPN/100 mL 2005-09-16   14.0   \n",
       "1      EH-010  Colilert-18  Coliform, Total  MPN/100 mL 2005-09-17    NaN   \n",
       "2      EH-010  Colilert-18  Coliform, Total  MPN/100 mL 2005-09-18    NaN   \n",
       "3      EH-010  Colilert-18  Coliform, Total  MPN/100 mL 2005-09-19    NaN   \n",
       "4      EH-010  Colilert-18  Coliform, Total  MPN/100 mL 2005-09-20    NaN   \n",
       "\n",
       "   result  result_count    group_std  group_mean  group_median  gt_median  \\\n",
       "0    86.0          16.0  2754.504235    2069.125         524.0        0.0   \n",
       "1     NaN           NaN          NaN         NaN           NaN        NaN   \n",
       "2     NaN           NaN          NaN         NaN           NaN        NaN   \n",
       "3     NaN           NaN          NaN         NaN           NaN        NaN   \n",
       "4     NaN           NaN          NaN         NaN           NaN        NaN   \n",
       "\n",
       "   gt_mean  \n",
       "0      0.0  \n",
       "1      NaN  \n",
       "2      NaN  \n",
       "3      NaN  \n",
       "4      NaN  "
      ]
     },
     "execution_count": 4,
     "metadata": {},
     "output_type": "execute_result"
    }
   ],
   "source": [
    "_1 = df.set_index(['stationcode','methodname','analyte','unit']).join(dfc_gs).reset_index()\n",
    "\n",
    "# Mark the records that are in excess of the median and mean,\n",
    "_1['gt_median'] = _1.result > _1.group_median\n",
    "_1['gt_mean']   = _1.result > _1.group_mean\n",
    "\n",
    "# However, we still have an issue with there being multiple measurements per day/analyte/method/station. \n",
    "# The gt_mean and gt_median are now linked to the mean and median for the day/analyte/method/station, so let's just\n",
    "# consider that normalization enough and average the flags. Since they are binary, they will  convert to 0/1\n",
    "_2 = _1.reset_index().set_index('sampledate').groupby(['stationcode','methodname','analyte','unit']).resample('1d').mean().reset_index()\n",
    "dfc = _2\n",
    "dfc.head()\n"
   ]
  },
  {
   "cell_type": "code",
   "execution_count": 5,
   "metadata": {},
   "outputs": [
    {
     "data": {
      "text/plain": [
       "0.013614282528397813"
      ]
     },
     "execution_count": 5,
     "metadata": {},
     "output_type": "execute_result"
    }
   ],
   "source": [
    "# Proportion of gt_mean and mt_median that are different. \n",
    "len(dfc[ dfc.gt_median.notnull() & dfc.gt_mean.notnull() &  (dfc.gt_median != dfc.gt_mean)])  / len(dfc)"
   ]
  },
  {
   "cell_type": "code",
   "execution_count": 6,
   "metadata": {},
   "outputs": [
    {
     "data": {
      "text/plain": [
       "0.3119946815311054"
      ]
     },
     "execution_count": 6,
     "metadata": {},
     "output_type": "execute_result"
    }
   ],
   "source": [
    "_ = dfc[dfc.gt_median.notnull()]\n",
    "len(_[_.gt_median> 0.5]) / len(_)"
   ]
  },
  {
   "cell_type": "code",
   "execution_count": 7,
   "metadata": {},
   "outputs": [
    {
     "data": {
      "text/plain": [
       "0.11064972257025237"
      ]
     },
     "execution_count": 7,
     "metadata": {},
     "output_type": "execute_result"
    }
   ],
   "source": [
    "_ = dfc[dfc.gt_mean.notnull()]\n",
    "len(_[_.gt_mean> 0.5]) / len(_)"
   ]
  },
  {
   "cell_type": "markdown",
   "metadata": {},
   "source": [
    "# Merge in environmental data"
   ]
  },
  {
   "cell_type": "code",
   "execution_count": 8,
   "metadata": {},
   "outputs": [],
   "source": [
    "env_pkg =  mp.open_package('http://library.metatab.org/sandiegodata.org-water_quality-3.zip')"
   ]
  },
  {
   "cell_type": "code",
   "execution_count": 9,
   "metadata": {},
   "outputs": [
    {
     "data": {
      "text/html": [
       "<div>\n",
       "<style scoped>\n",
       "    .dataframe tbody tr th:only-of-type {\n",
       "        vertical-align: middle;\n",
       "    }\n",
       "\n",
       "    .dataframe tbody tr th {\n",
       "        vertical-align: top;\n",
       "    }\n",
       "\n",
       "    .dataframe thead th {\n",
       "        text-align: right;\n",
       "    }\n",
       "</style>\n",
       "<table border=\"1\" class=\"dataframe\">\n",
       "  <thead>\n",
       "    <tr style=\"text-align: right;\">\n",
       "      <th></th>\n",
       "      <th>date</th>\n",
       "      <th>discharge_rate</th>\n",
       "      <th>dailyprecip</th>\n",
       "      <th>wl_max</th>\n",
       "      <th>wl_min</th>\n",
       "    </tr>\n",
       "  </thead>\n",
       "  <tbody>\n",
       "    <tr>\n",
       "      <th>0</th>\n",
       "      <td>1988-01-01</td>\n",
       "      <td>22.0</td>\n",
       "      <td>NaN</td>\n",
       "      <td>NaN</td>\n",
       "      <td>NaN</td>\n",
       "    </tr>\n",
       "    <tr>\n",
       "      <th>1</th>\n",
       "      <td>1988-01-02</td>\n",
       "      <td>20.0</td>\n",
       "      <td>NaN</td>\n",
       "      <td>NaN</td>\n",
       "      <td>NaN</td>\n",
       "    </tr>\n",
       "    <tr>\n",
       "      <th>2</th>\n",
       "      <td>1988-01-03</td>\n",
       "      <td>18.0</td>\n",
       "      <td>NaN</td>\n",
       "      <td>NaN</td>\n",
       "      <td>NaN</td>\n",
       "    </tr>\n",
       "    <tr>\n",
       "      <th>3</th>\n",
       "      <td>1988-01-04</td>\n",
       "      <td>18.0</td>\n",
       "      <td>NaN</td>\n",
       "      <td>NaN</td>\n",
       "      <td>NaN</td>\n",
       "    </tr>\n",
       "    <tr>\n",
       "      <th>4</th>\n",
       "      <td>1988-01-05</td>\n",
       "      <td>21.0</td>\n",
       "      <td>NaN</td>\n",
       "      <td>NaN</td>\n",
       "      <td>NaN</td>\n",
       "    </tr>\n",
       "  </tbody>\n",
       "</table>\n",
       "</div>"
      ],
      "text/plain": [
       "        date  discharge_rate  dailyprecip  wl_max  wl_min\n",
       "0 1988-01-01            22.0          NaN     NaN     NaN\n",
       "1 1988-01-02            20.0          NaN     NaN     NaN\n",
       "2 1988-01-03            18.0          NaN     NaN     NaN\n",
       "3 1988-01-04            18.0          NaN     NaN     NaN\n",
       "4 1988-01-05            21.0          NaN     NaN     NaN"
      ]
     },
     "execution_count": 9,
     "metadata": {},
     "output_type": "execute_result"
    }
   ],
   "source": [
    "trr = env_pkg.resource('tides_river_rain').read_csv(parse_dates=True)\n",
    "trr.head()"
   ]
  },
  {
   "cell_type": "code",
   "execution_count": null,
   "metadata": {},
   "outputs": [],
   "source": [
    "_1 = trr.set_index('date').resample('1d').first()\n",
    "dfc_env = dfc.join(_1)\n",
    "dfc_env.head()"
   ]
  },
  {
   "cell_type": "code",
   "execution_count": null,
   "metadata": {},
   "outputs": [],
   "source": [
    "fig, ax = plt.subplots(figsize=(15,.5*len(dfc_env.columns)))\n",
    "sns.heatmap(dfc_env.isnull().T,cbar=False,xticklabels=False,cmap = 'viridis', ax=ax );"
   ]
  },
  {
   "cell_type": "code",
   "execution_count": null,
   "metadata": {},
   "outputs": [],
   "source": [
    "dfc_env.dailyprecip.dropna().index.min()"
   ]
  },
  {
   "cell_type": "code",
   "execution_count": null,
   "metadata": {},
   "outputs": [],
   "source": [
    "dfc_env.discharge_rate.median(), dfc_env.discharge_rate.mean()"
   ]
  },
  {
   "cell_type": "code",
   "execution_count": null,
   "metadata": {},
   "outputs": [],
   "source": [
    "dfc_env['discharge_gt_mean']   = dfc_env.discharge_rate > dfc_env.discharge_rate.mean()\n",
    "dfc_env['discharge_gt_median'] = dfc_env.discharge_rate > dfc_env.discharge_rate.median()"
   ]
  },
  {
   "cell_type": "code",
   "execution_count": null,
   "metadata": {},
   "outputs": [],
   "source": []
  },
  {
   "cell_type": "code",
   "execution_count": null,
   "metadata": {},
   "outputs": [],
   "source": [
    "#pd.crosstab(dfc_env.discharge_gt_mean,dfc_env.gt_median).plot(kind='bar');"
   ]
  },
  {
   "cell_type": "code",
   "execution_count": null,
   "metadata": {},
   "outputs": [],
   "source": []
  }
 ],
 "metadata": {
  "kernelspec": {
   "display_name": "Python 3",
   "language": "python",
   "name": "python3"
  },
  "language_info": {
   "codemirror_mode": {
    "name": "ipython",
    "version": 3
   },
   "file_extension": ".py",
   "mimetype": "text/x-python",
   "name": "python",
   "nbconvert_exporter": "python",
   "pygments_lexer": "ipython3",
   "version": "3.6.4"
  }
 },
 "nbformat": 4,
 "nbformat_minor": 2
}
