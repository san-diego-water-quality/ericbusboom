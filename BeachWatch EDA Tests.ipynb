{
 "cells": [
  {
   "cell_type": "markdown",
   "metadata": {},
   "source": [
    "Here is a good notebook with EDA examples: \n",
    "\n",
    "http://nbviewer.jupyter.org/github/PBPatil/Exploratory_Data_Analysis-Wine_Quality_Dataset/blob/master/winequality_white.ipynb\n",
    "\n",
    "\n",
    "Seaborn Pairwise correlations: \n",
    "\n",
    "https://seaborn.pydata.org/examples/many_pairwise_correlations.html\n",
    "\n",
    "\n",
    "More EDA: \n",
    "\n",
    "https://towardsdatascience.com/exploratory-data-analysis-8fc1cb20fd15\n",
    "\n",
    "An EDA Tutorial: \n",
    "\n",
    "https://www.svds.com/exploratory-data-analysis-python/\n"
   ]
  },
  {
   "cell_type": "code",
   "execution_count": 33,
   "metadata": {},
   "outputs": [
    {
     "name": "stdout",
     "output_type": "stream",
     "text": [
      "The autoreload extension is already loaded. To reload it, use:\n",
      "  %reload_ext autoreload\n"
     ]
    }
   ],
   "source": [
    "%load_ext autoreload\n",
    "%autoreload 2\n",
    "\n",
    "import matplotlib.pyplot as plt \n",
    "import metapack as mp\n",
    "import pandas as pd\n",
    "import numpy as np"
   ]
  },
  {
   "cell_type": "code",
   "execution_count": 2,
   "metadata": {},
   "outputs": [
    {
     "data": {
      "text/html": [
       "<h2>San Diego Beachwatch Data</h2>\n",
       "<p><p><em>Water quality data for San Diego county beaches.</em></p>\n",
       "<p><small>ceden.waterboards.ca.gov-beachwatch-sandiego-2 from metapack+http://library.metatab.org/ceden.waterboards.ca.gov-beachwatch-sandiego-2.zip#metadata.csv</small></p></p>\n",
       "<p>The Beachwatch data set has four bacteria measurements from 172 stations on the\n",
       "coast of San Diego county, from July 1998 to Decenber 2013. The four\n",
       "measurements are:</p>\n",
       "<ul>\n",
       "<li>Coliform, Total      66992</li>\n",
       "<li>Coliform, Fecal      65827</li>\n",
       "<li>Enterococcus         65010</li>\n",
       "<li>E. coli               4428</li>\n",
       "</ul>\n",
       "<h3>Documentation</h3>\n",
       "<ul>\n",
       "<li><strong><a href=\"https://www.waterboards.ca.gov/water_issues/programs/beaches/beach_water_quality/beaches_program.html\">overview</a></strong> Project Overview Page</li>\n",
       "<li><strong><a href=\"https://ceden.waterboards.ca.gov/AdvancedQueryTool\">source_page</a></strong> CEDEN advanced query tool page</li>\n",
       "</ul>\n",
       "<h3>Contacts</h3>\n",
       "<p><strong>Wrangler:</strong> <a href=\"mailto:eric@civicknowledge.com\">Eric Busboom</a> <a href=\"http://civicknowledge.com\">Civic Knowledge</a></p>\n",
       "<h3>Resources</h3>\n",
       "<p><ol>\n",
       "<li><p><strong>beachwatch-sd</strong> - <a target=\"_blank\" href=\"file:///home/jovyan/.local/share/metapack/library.metatab.org/ceden.waterboards.ca.gov-beachwatch-sandiego-2.zip_d/ceden.waterboards.ca.gov-beachwatch-sandiego-2/data/beachwatch-sd.csv\">file:///home/jovyan/.local/share/metapack/library.metatab.org/ceden.waterboards.ca.gov-beachwatch-sandiego-2.zip_d/ceden.waterboards.ca.gov-beachwatch-sandiego-2/data/beachwatch-sd.csv</a> Beachwatch program for San Diego county</p></li></p>\n",
       "</ol>\n",
       "\n",
       "</ol>"
      ],
      "text/plain": [
       "<metapack.doc.MetapackDoc at 0x7fb9c7c1ec88>"
      ]
     },
     "execution_count": 2,
     "metadata": {},
     "output_type": "execute_result"
    }
   ],
   "source": [
    "pkg = mp.open_package('http://library.metatab.org/ceden.waterboards.ca.gov-beachwatch-sandiego-2.zip')\n",
    "\n",
    "pkg"
   ]
  },
  {
   "cell_type": "code",
   "execution_count": 3,
   "metadata": {},
   "outputs": [],
   "source": [
    "df = pkg.resource('beachwatch-sd').read_csv()"
   ]
  },
  {
   "cell_type": "code",
   "execution_count": 34,
   "metadata": {},
   "outputs": [
    {
     "data": {
      "text/plain": [
       "11"
      ]
     },
     "execution_count": 34,
     "metadata": {},
     "output_type": "execute_result"
    }
   ],
   "source": [
    "\n",
    "import lib\n",
    "\n",
    "lib.foo()\n"
   ]
  },
  {
   "cell_type": "code",
   "execution_count": 37,
   "metadata": {},
   "outputs": [],
   "source": [
    "df_o, df_n, df_c, empty = lib.split(df)"
   ]
  },
  {
   "cell_type": "code",
   "execution_count": 39,
   "metadata": {},
   "outputs": [
    {
     "data": {
      "text/html": [
       "<div>\n",
       "<style scoped>\n",
       "    .dataframe tbody tr th:only-of-type {\n",
       "        vertical-align: middle;\n",
       "    }\n",
       "\n",
       "    .dataframe tbody tr th {\n",
       "        vertical-align: top;\n",
       "    }\n",
       "\n",
       "    .dataframe thead th {\n",
       "        text-align: right;\n",
       "    }\n",
       "</style>\n",
       "<table border=\"1\" class=\"dataframe\">\n",
       "  <thead>\n",
       "    <tr style=\"text-align: right;\">\n",
       "      <th></th>\n",
       "      <th>count</th>\n",
       "      <th>unique</th>\n",
       "      <th>top</th>\n",
       "      <th>freq</th>\n",
       "    </tr>\n",
       "  </thead>\n",
       "  <tbody>\n",
       "    <tr>\n",
       "      <th>stationname</th>\n",
       "      <td>202257</td>\n",
       "      <td>172</td>\n",
       "      <td>IB-080-Coronado City beaches, San Diego</td>\n",
       "      <td>5065</td>\n",
       "    </tr>\n",
       "    <tr>\n",
       "      <th>stationcode</th>\n",
       "      <td>202257</td>\n",
       "      <td>172</td>\n",
       "      <td>IB-080</td>\n",
       "      <td>5065</td>\n",
       "    </tr>\n",
       "    <tr>\n",
       "      <th>sampledate</th>\n",
       "      <td>202257</td>\n",
       "      <td>3836</td>\n",
       "      <td>2005-09-06</td>\n",
       "      <td>260</td>\n",
       "    </tr>\n",
       "    <tr>\n",
       "      <th>collectiontime</th>\n",
       "      <td>202257</td>\n",
       "      <td>681</td>\n",
       "      <td>00:00:00</td>\n",
       "      <td>57144</td>\n",
       "    </tr>\n",
       "    <tr>\n",
       "      <th>labbatch</th>\n",
       "      <td>202257</td>\n",
       "      <td>9013</td>\n",
       "      <td>SD-11/2/2004</td>\n",
       "      <td>131</td>\n",
       "    </tr>\n",
       "    <tr>\n",
       "      <th>methodname</th>\n",
       "      <td>202257</td>\n",
       "      <td>8</td>\n",
       "      <td>SM 9222 B</td>\n",
       "      <td>49791</td>\n",
       "    </tr>\n",
       "    <tr>\n",
       "      <th>analyte</th>\n",
       "      <td>202257</td>\n",
       "      <td>4</td>\n",
       "      <td>Coliform, Total</td>\n",
       "      <td>66992</td>\n",
       "    </tr>\n",
       "    <tr>\n",
       "      <th>unit</th>\n",
       "      <td>202257</td>\n",
       "      <td>2</td>\n",
       "      <td>MPN/100 mL</td>\n",
       "      <td>143346</td>\n",
       "    </tr>\n",
       "    <tr>\n",
       "      <th>resultqualcode</th>\n",
       "      <td>201920</td>\n",
       "      <td>6</td>\n",
       "      <td>=</td>\n",
       "      <td>107776</td>\n",
       "    </tr>\n",
       "    <tr>\n",
       "      <th>qacode</th>\n",
       "      <td>202257</td>\n",
       "      <td>2</td>\n",
       "      <td>NR</td>\n",
       "      <td>174811</td>\n",
       "    </tr>\n",
       "    <tr>\n",
       "      <th>sampleagency</th>\n",
       "      <td>202257</td>\n",
       "      <td>11</td>\n",
       "      <td>SDCDEH</td>\n",
       "      <td>84275</td>\n",
       "    </tr>\n",
       "    <tr>\n",
       "      <th>labagency</th>\n",
       "      <td>202257</td>\n",
       "      <td>11</td>\n",
       "      <td>SDCDEH</td>\n",
       "      <td>84275</td>\n",
       "    </tr>\n",
       "    <tr>\n",
       "      <th>submittingagency</th>\n",
       "      <td>202257</td>\n",
       "      <td>11</td>\n",
       "      <td>SDCDEH</td>\n",
       "      <td>84275</td>\n",
       "    </tr>\n",
       "  </tbody>\n",
       "</table>\n",
       "</div>"
      ],
      "text/plain": [
       "                   count unique                                      top  \\\n",
       "stationname       202257    172  IB-080-Coronado City beaches, San Diego   \n",
       "stationcode       202257    172                                   IB-080   \n",
       "sampledate        202257   3836                               2005-09-06   \n",
       "collectiontime    202257    681                                 00:00:00   \n",
       "labbatch          202257   9013                             SD-11/2/2004   \n",
       "methodname        202257      8                                SM 9222 B   \n",
       "analyte           202257      4                          Coliform, Total   \n",
       "unit              202257      2                               MPN/100 mL   \n",
       "resultqualcode    201920      6                                        =   \n",
       "qacode            202257      2                                       NR   \n",
       "sampleagency      202257     11                                   SDCDEH   \n",
       "labagency         202257     11                                   SDCDEH   \n",
       "submittingagency  202257     11                                   SDCDEH   \n",
       "\n",
       "                    freq  \n",
       "stationname         5065  \n",
       "stationcode         5065  \n",
       "sampledate           260  \n",
       "collectiontime     57144  \n",
       "labbatch             131  \n",
       "methodname         49791  \n",
       "analyte            66992  \n",
       "unit              143346  \n",
       "resultqualcode    107776  \n",
       "qacode            174811  \n",
       "sampleagency       84275  \n",
       "labagency          84275  \n",
       "submittingagency   84275  "
      ]
     },
     "execution_count": 39,
     "metadata": {},
     "output_type": "execute_result"
    }
   ],
   "source": [
    "df_o.describe().T"
   ]
  },
  {
   "cell_type": "code",
   "execution_count": 42,
   "metadata": {},
   "outputs": [
    {
     "data": {
      "text/plain": [
       "Index(['program', 'parentproject', 'project', 'locationcode',\n",
       "       'collectiondepth', 'unitcollectiondepth', 'sampletypecode',\n",
       "       'collectionreplicate', 'resultsreplicate', 'labsampleid', 'matrixname',\n",
       "       'mdl', 'rl', 'batchverification', 'compliancecode', 'eventcode',\n",
       "       'protocolcode', 'collectionmethodname', 'collectiondevicedescription',\n",
       "       'calibrationdate', 'positionwatercolumn', 'preppreservationname',\n",
       "       'preppreservationdate', 'digestextractmethod', 'digestextractdate',\n",
       "       'analysisdate', 'dilutionfactor', 'expectedvalue', 'submissioncode',\n",
       "       'county', 'county_fips', 'regional_board', 'rb_number', 'sampleid'],\n",
       "      dtype='object')"
      ]
     },
     "execution_count": 42,
     "metadata": {},
     "output_type": "execute_result"
    }
   ],
   "source": [
    "df_c.columns"
   ]
  },
  {
   "cell_type": "code",
   "execution_count": 46,
   "metadata": {},
   "outputs": [
    {
     "data": {
      "text/plain": [
       "array([[<matplotlib.axes._subplots.AxesSubplot object at 0x7fb9b22bf9b0>,\n",
       "        <matplotlib.axes._subplots.AxesSubplot object at 0x7fb9b2284208>],\n",
       "       [<matplotlib.axes._subplots.AxesSubplot object at 0x7fb9b225b860>,\n",
       "        <matplotlib.axes._subplots.AxesSubplot object at 0x7fb9b2661ef0>]],\n",
       "      dtype=object)"
      ]
     },
     "execution_count": 46,
     "metadata": {},
     "output_type": "execute_result"
    },
    {
     "data": {
      "image/png": "[encoded data removed]",
      "text/plain": [
       "<Figure size 576x576 with 4 Axes>"
      ]
     },
     "metadata": {},
     "output_type": "display_data"
    }
   ],
   "source": [
    "plt.style.use('bmh')\n",
    "import seaborn as sns\n",
    "df_n.hist(figsize=(8, 8), bins=50, xlabelsize=8, ylabelsize=8)"
   ]
  },
  {
   "cell_type": "code",
   "execution_count": 47,
   "metadata": {},
   "outputs": [
    {
     "name": "stdout",
     "output_type": "stream",
     "text": [
      "<class 'pandas.core.frame.DataFrame'>\n",
      "RangeIndex: 202257 entries, 0 to 202256\n",
      "Data columns (total 79 columns):\n",
      "program                        202257 non-null object\n",
      "parentproject                  202257 non-null object\n",
      "project                        202257 non-null object\n",
      "stationname                    202257 non-null object\n",
      "stationcode                    202257 non-null object\n",
      "sampledate                     202257 non-null object\n",
      "collectiontime                 202257 non-null object\n",
      "locationcode                   202257 non-null object\n",
      "collectiondepth                202257 non-null int64\n",
      "unitcollectiondepth            202257 non-null object\n",
      "sampletypecode                 202257 non-null object\n",
      "collectionreplicate            202257 non-null int64\n",
      "resultsreplicate               202257 non-null int64\n",
      "labbatch                       202257 non-null object\n",
      "labsampleid                    202257 non-null object\n",
      "matrixname                     202257 non-null object\n",
      "methodname                     202257 non-null object\n",
      "analyte                        202257 non-null object\n",
      "unit                           202257 non-null object\n",
      "result                         198271 non-null float64\n",
      "observation                    0 non-null float64\n",
      "mdl                            202257 non-null int64\n",
      "rl                             202257 non-null int64\n",
      "resultqualcode                 201920 non-null object\n",
      "qacode                         202257 non-null object\n",
      "batchverification              202257 non-null object\n",
      "compliancecode                 202257 non-null object\n",
      "samplecomments                 0 non-null float64\n",
      "collectioncomments             0 non-null float64\n",
      "resultscomments                0 non-null float64\n",
      "batchcomments                  0 non-null float64\n",
      "eventcode                      202257 non-null object\n",
      "protocolcode                   202257 non-null object\n",
      "sampleagency                   202257 non-null object\n",
      "groupsamples                   0 non-null float64\n",
      "collectionmethodname           202257 non-null object\n",
      "targetlatitude                 202257 non-null float64\n",
      "targetlongitude                202257 non-null float64\n",
      "collectiondevicedescription    202257 non-null object\n",
      "calibrationdate                202257 non-null object\n",
      "positionwatercolumn            202257 non-null object\n",
      "preppreservationname           202257 non-null object\n",
      "preppreservationdate           202257 non-null object\n",
      "digestextractmethod            202257 non-null object\n",
      "digestextractdate              202257 non-null object\n",
      "analysisdate                   202257 non-null object\n",
      "dilutionfactor                 202257 non-null int64\n",
      "expectedvalue                  202257 non-null int64\n",
      "labagency                      202257 non-null object\n",
      "submittingagency               202257 non-null object\n",
      "submissioncode                 202257 non-null object\n",
      "occupationmethod               0 non-null float64\n",
      "startingbank                   0 non-null float64\n",
      "distancefrombank               0 non-null float64\n",
      "unitdistancefrombank           0 non-null float64\n",
      "streamwidth                    0 non-null float64\n",
      "unitstreamwidth                0 non-null float64\n",
      "stationwaterdepth              0 non-null float64\n",
      "unitstationwaterdepth          0 non-null float64\n",
      "hydromod                       0 non-null float64\n",
      "hydromodloc                    0 non-null float64\n",
      "locationdetailwqcomments       0 non-null float64\n",
      "channelwidth                   0 non-null float64\n",
      "upstreamlength                 0 non-null float64\n",
      "downstreamlength               0 non-null float64\n",
      "totalreach                     0 non-null float64\n",
      "locationdetailbacomments       0 non-null float64\n",
      "county                         202257 non-null object\n",
      "county_fips                    202257 non-null int64\n",
      "regional_board                 202257 non-null object\n",
      "rb_number                      202257 non-null int64\n",
      "huc8                           0 non-null float64\n",
      "huc8_number                    0 non-null float64\n",
      "huc10                          0 non-null float64\n",
      "huc10_number                   0 non-null float64\n",
      "huc12                          0 non-null float64\n",
      "huc12_number                   0 non-null float64\n",
      "waterbody_type                 0 non-null float64\n",
      "sampleid                       202257 non-null object\n",
      "dtypes: float64(32), int64(9), object(38)\n",
      "memory usage: 121.9+ MB\n"
     ]
    }
   ],
   "source": [
    "df.info()"
   ]
  },
  {
   "cell_type": "code",
   "execution_count": 59,
   "metadata": {},
   "outputs": [
    {
     "data": {
      "text/plain": [
       "<matplotlib.axes._subplots.AxesSubplot at 0x7fb9b0054320>"
      ]
     },
     "execution_count": 59,
     "metadata": {},
     "output_type": "execute_result"
    },
    {
     "data": {
      "image/png": "[encoded data removed]",
      "text/plain": [
       "<Figure size 432x288 with 1 Axes>"
      ]
     },
     "metadata": {},
     "output_type": "display_data"
    }
   ],
   "source": [
    "sns.heatmap(df.sample(1000).isnull().T,cbar=False,xticklabels=False,cmap = 'viridis')"
   ]
  },
  {
   "cell_type": "code",
   "execution_count": null,
   "metadata": {},
   "outputs": [],
   "source": []
  }
 ],
 "metadata": {
  "kernelspec": {
   "display_name": "Python 3",
   "language": "python",
   "name": "python3"
  },
  "language_info": {
   "codemirror_mode": {
    "name": "ipython",
    "version": 3
   },
   "file_extension": ".py",
   "mimetype": "text/x-python",
   "name": "python",
   "nbconvert_exporter": "python",
   "pygments_lexer": "ipython3",
   "version": "3.6.4"
  }
 },
 "nbformat": 4,
 "nbformat_minor": 2
}
